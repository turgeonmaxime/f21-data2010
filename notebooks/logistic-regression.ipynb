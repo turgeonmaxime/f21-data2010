{
 "cells": [
  {
   "cell_type": "markdown",
   "id": "2ba91236",
   "metadata": {},
   "source": [
    "# Logistic regression\n",
    "\n",
    "In this notebook, we discuss how to fit and evaluate logistic regression models in Python.\n",
    "\n",
    "We will use the Heart dataset, which was downloaded from the UCI Machine Learning repository."
   ]
  },
  {
   "cell_type": "code",
   "execution_count": 1,
   "id": "8d1904b9",
   "metadata": {},
   "outputs": [
    {
     "data": {
      "text/html": [
       "<div>\n",
       "<style scoped>\n",
       "    .dataframe tbody tr th:only-of-type {\n",
       "        vertical-align: middle;\n",
       "    }\n",
       "\n",
       "    .dataframe tbody tr th {\n",
       "        vertical-align: top;\n",
       "    }\n",
       "\n",
       "    .dataframe thead th {\n",
       "        text-align: right;\n",
       "    }\n",
       "</style>\n",
       "<table border=\"1\" class=\"dataframe\">\n",
       "  <thead>\n",
       "    <tr style=\"text-align: right;\">\n",
       "      <th></th>\n",
       "      <th>age</th>\n",
       "      <th>sex</th>\n",
       "      <th>cp</th>\n",
       "      <th>trestbps</th>\n",
       "      <th>chol</th>\n",
       "      <th>fbs</th>\n",
       "      <th>restecg</th>\n",
       "      <th>thalach</th>\n",
       "      <th>exang</th>\n",
       "      <th>oldpeak</th>\n",
       "      <th>slope</th>\n",
       "      <th>ca</th>\n",
       "      <th>thal</th>\n",
       "      <th>target</th>\n",
       "    </tr>\n",
       "  </thead>\n",
       "  <tbody>\n",
       "    <tr>\n",
       "      <th>0</th>\n",
       "      <td>63</td>\n",
       "      <td>1</td>\n",
       "      <td>3</td>\n",
       "      <td>145</td>\n",
       "      <td>233</td>\n",
       "      <td>1</td>\n",
       "      <td>0</td>\n",
       "      <td>150</td>\n",
       "      <td>0</td>\n",
       "      <td>2.3</td>\n",
       "      <td>0</td>\n",
       "      <td>0</td>\n",
       "      <td>1</td>\n",
       "      <td>1</td>\n",
       "    </tr>\n",
       "    <tr>\n",
       "      <th>1</th>\n",
       "      <td>37</td>\n",
       "      <td>1</td>\n",
       "      <td>2</td>\n",
       "      <td>130</td>\n",
       "      <td>250</td>\n",
       "      <td>0</td>\n",
       "      <td>1</td>\n",
       "      <td>187</td>\n",
       "      <td>0</td>\n",
       "      <td>3.5</td>\n",
       "      <td>0</td>\n",
       "      <td>0</td>\n",
       "      <td>2</td>\n",
       "      <td>1</td>\n",
       "    </tr>\n",
       "    <tr>\n",
       "      <th>2</th>\n",
       "      <td>41</td>\n",
       "      <td>0</td>\n",
       "      <td>1</td>\n",
       "      <td>130</td>\n",
       "      <td>204</td>\n",
       "      <td>0</td>\n",
       "      <td>0</td>\n",
       "      <td>172</td>\n",
       "      <td>0</td>\n",
       "      <td>1.4</td>\n",
       "      <td>2</td>\n",
       "      <td>0</td>\n",
       "      <td>2</td>\n",
       "      <td>1</td>\n",
       "    </tr>\n",
       "    <tr>\n",
       "      <th>3</th>\n",
       "      <td>56</td>\n",
       "      <td>1</td>\n",
       "      <td>1</td>\n",
       "      <td>120</td>\n",
       "      <td>236</td>\n",
       "      <td>0</td>\n",
       "      <td>1</td>\n",
       "      <td>178</td>\n",
       "      <td>0</td>\n",
       "      <td>0.8</td>\n",
       "      <td>2</td>\n",
       "      <td>0</td>\n",
       "      <td>2</td>\n",
       "      <td>1</td>\n",
       "    </tr>\n",
       "    <tr>\n",
       "      <th>4</th>\n",
       "      <td>57</td>\n",
       "      <td>0</td>\n",
       "      <td>0</td>\n",
       "      <td>120</td>\n",
       "      <td>354</td>\n",
       "      <td>0</td>\n",
       "      <td>1</td>\n",
       "      <td>163</td>\n",
       "      <td>1</td>\n",
       "      <td>0.6</td>\n",
       "      <td>2</td>\n",
       "      <td>0</td>\n",
       "      <td>2</td>\n",
       "      <td>1</td>\n",
       "    </tr>\n",
       "  </tbody>\n",
       "</table>\n",
       "</div>"
      ],
      "text/plain": [
       "   age  sex  cp  trestbps  chol  fbs  restecg  thalach  exang  oldpeak  slope  \\\n",
       "0   63    1   3       145   233    1        0      150      0      2.3      0   \n",
       "1   37    1   2       130   250    0        1      187      0      3.5      0   \n",
       "2   41    0   1       130   204    0        0      172      0      1.4      2   \n",
       "3   56    1   1       120   236    0        1      178      0      0.8      2   \n",
       "4   57    0   0       120   354    0        1      163      1      0.6      2   \n",
       "\n",
       "   ca  thal  target  \n",
       "0   0     1       1  \n",
       "1   0     2       1  \n",
       "2   0     2       1  \n",
       "3   0     2       1  \n",
       "4   0     2       1  "
      ]
     },
     "execution_count": 1,
     "metadata": {},
     "output_type": "execute_result"
    }
   ],
   "source": [
    "# Import data\n",
    "import pandas as pd\n",
    "\n",
    "df = pd.read_csv('heart.csv')\n",
    "df.head()"
   ]
  },
  {
   "cell_type": "markdown",
   "id": "6f626821",
   "metadata": {},
   "source": [
    "The target variable is called `target`, and we want to use all remaining variables to try to predict it."
   ]
  },
  {
   "cell_type": "code",
   "execution_count": 2,
   "id": "6b1a11a6",
   "metadata": {},
   "outputs": [],
   "source": [
    "# Split data into train and test sets\n",
    "from sklearn.model_selection import train_test_split\n",
    "\n",
    "X = df.drop('target', axis = 1)\n",
    "y = df.target\n",
    "\n",
    "# We specify the random state for reproducibility\n",
    "X_train, X_test, y_train, y_test = train_test_split(X, y, test_size = 0.1,\n",
    "                                                   random_state = 1234)"
   ]
  },
  {
   "cell_type": "markdown",
   "id": "292f94f9",
   "metadata": {},
   "source": [
    "First, let's start with a basic linear regression without any regularization. We do this by specifiying `penalty = \"none\"`.\n",
    "\n",
    "We also need to increase the maximum number of iterations, as the model doesn't converge with the default value (try removing `max_iter = 1000` to see what happens)."
   ]
  },
  {
   "cell_type": "code",
   "execution_count": 3,
   "id": "21fd4f5f",
   "metadata": {},
   "outputs": [],
   "source": [
    "# Fit Logistic Regression without regularization\n",
    "from sklearn.linear_model import LogisticRegression\n",
    "\n",
    "model_noreg = LogisticRegression(penalty = \"none\",\n",
    "                                 max_iter = 1000) # Increase to reach convergence\n",
    "model_noreg.fit(X_train, y_train)\n",
    "\n",
    "# Get predicted values\n",
    "y_pred_noreg = model_noreg.predict(X_test)"
   ]
  },
  {
   "cell_type": "markdown",
   "id": "41004423",
   "metadata": {},
   "source": [
    "### Exercise\n",
    "\n",
    "Compute the Brier score (also known as the MSE)."
   ]
  },
  {
   "cell_type": "code",
   "execution_count": 4,
   "id": "71d6889c",
   "metadata": {},
   "outputs": [],
   "source": [
    "# Write your code here\n",
    "\n",
    "\n"
   ]
  },
  {
   "cell_type": "markdown",
   "id": "25e8a613",
   "metadata": {},
   "source": [
    "Next, we can try fitting a logistic regression model with L1 regularization. This is the same idea as Lasso regression, but applied to logistic regression instead of linear regression. We do this by specifying `penalty = \"l1\"`.\n",
    "\n",
    "Note that we increased even more the maximum number of iterations, and that we also need to specify a different solver (i.e. algorithm). The default one is L-BFGS, which is gradient-based approach that requires the objective function to be differentiable everywhere. As we discussed in class, the L1 penalty is not differentiable at 0, and therefore we need to use a different algorithm. In this case, we use SAGA, which is appropriate for L1 penalty.\n",
    "\n",
    "One last important observation: we use the default value of lambda = 1.0, but you can change that by changing the parameter `C` of `LogisticRegression`, but careful: it's actually the inverse of lambda! (So smaller values of `C` lead to more regularization.) "
   ]
  },
  {
   "cell_type": "code",
   "execution_count": 5,
   "id": "1ba0561c",
   "metadata": {},
   "outputs": [],
   "source": [
    "# Fit Logistic Regression with L1 regularization\n",
    "from sklearn.linear_model import LogisticRegression\n",
    "\n",
    "model_reg = LogisticRegression(penalty = \"l1\",\n",
    "                               max_iter = 5000, # Increase to reach convergence\n",
    "                               solver = 'saga') # Default doesn't work for lasso\n",
    "model_reg.fit(X_train, y_train)\n",
    "y_pred_reg = model_reg.predict(X_test)"
   ]
  },
  {
   "cell_type": "markdown",
   "id": "8b49b458",
   "metadata": {},
   "source": [
    "Recall that L1 regularization leads to variable selection. We can see that from the coefficient estimates:"
   ]
  },
  {
   "cell_type": "code",
   "execution_count": 6,
   "id": "668baab2",
   "metadata": {},
   "outputs": [
    {
     "data": {
      "text/plain": [
       "array([[ 8.60518143e-05, -3.25086515e-01,  5.40401205e-01,\n",
       "        -1.48357465e-02, -2.92890322e-03,  0.00000000e+00,\n",
       "         7.20623341e-02,  2.70658978e-02, -2.75521024e-01,\n",
       "        -4.58576539e-01,  1.68299846e-01, -4.60808700e-01,\n",
       "        -3.40865629e-01]])"
      ]
     },
     "execution_count": 6,
     "metadata": {},
     "output_type": "execute_result"
    }
   ],
   "source": [
    "model_reg.coef_"
   ]
  },
  {
   "cell_type": "markdown",
   "id": "a2c207a2",
   "metadata": {},
   "source": [
    "### Exercise\n",
    "\n",
    "Compute the Brier score of this second model. Which model has the best performance?"
   ]
  },
  {
   "cell_type": "code",
   "execution_count": 7,
   "id": "0b02a178",
   "metadata": {},
   "outputs": [],
   "source": [
    "# Write your code below\n",
    "\n",
    "\n"
   ]
  },
  {
   "cell_type": "markdown",
   "id": "45d5fd91",
   "metadata": {},
   "source": [
    "## Plotting evaluation curves\n",
    "\n",
    "We can also use `scikit-learn` to plot both the ROC curve and the precision-recall curve.\n",
    "\n",
    "A small note: when `scikit-learn 1.0` was released a few months ago, they deprecated the approach below. So the code may generate warnings for you if you have a recent version of the library. To see how these curves should be generated in the new version, see the documentation."
   ]
  },
  {
   "cell_type": "code",
   "execution_count": 8,
   "id": "597c83fb",
   "metadata": {},
   "outputs": [
    {
     "data": {
      "text/plain": [
       "<sklearn.metrics._plot.precision_recall_curve.PrecisionRecallDisplay at 0x7f8885e9a090>"
      ]
     },
     "execution_count": 8,
     "metadata": {},
     "output_type": "execute_result"
    },
    {
     "data": {
      "image/png": "[encoded data removed]",
      "text/plain": [
       "<Figure size 432x288 with 1 Axes>"
      ]
     },
     "metadata": {
      "needs_background": "light"
     },
     "output_type": "display_data"
    },
    {
     "data": {
      "image/png": "[encoded data removed]",
      "text/plain": [
       "<Figure size 432x288 with 1 Axes>"
      ]
     },
     "metadata": {
      "needs_background": "light"
     },
     "output_type": "display_data"
    }
   ],
   "source": [
    "# Use sklearn to plot precision-recall curves\n",
    "# Note: This approach is deprecated in the most recent version\n",
    "#       of scikit-learn.\n",
    "from sklearn.metrics import plot_precision_recall_curve\n",
    "\n",
    "plot_precision_recall_curve(model_noreg, X_test, y_test, \n",
    "                            name = 'Logistic Regression')\n",
    "plot_precision_recall_curve(model_reg, X_test, y_test, \n",
    "                            name = 'L1 Logistic Regression')\n"
   ]
  },
  {
   "cell_type": "markdown",
   "id": "171d725e",
   "metadata": {},
   "source": [
    "As we can see, the graphs are also accompanied by a metric, the **Average Precision** (AP). As its name suggests, this is the average precision as we change the value of the threshold; a higher value corresponds to a better performance."
   ]
  },
  {
   "cell_type": "code",
   "execution_count": 9,
   "id": "33e538cd",
   "metadata": {},
   "outputs": [
    {
     "data": {
      "text/plain": [
       "<sklearn.metrics._plot.roc_curve.RocCurveDisplay at 0x7f88871f9f90>"
      ]
     },
     "execution_count": 9,
     "metadata": {},
     "output_type": "execute_result"
    },
    {
     "data": {
      "image/png": "[encoded data removed]",
      "text/plain": [
       "<Figure size 432x288 with 1 Axes>"
      ]
     },
     "metadata": {
      "needs_background": "light"
     },
     "output_type": "display_data"
    },
    {
     "data": {
      "image/png": "[encoded data removed]",
      "text/plain": [
       "<Figure size 432x288 with 1 Axes>"
      ]
     },
     "metadata": {
      "needs_background": "light"
     },
     "output_type": "display_data"
    }
   ],
   "source": [
    "# Use sklearn to plot ROC curves\n",
    "# Note: This approach is deprecated in the most recent version\n",
    "#       of scikit-learn.\n",
    "from sklearn.metrics import plot_roc_curve\n",
    "\n",
    "plot_roc_curve(model_noreg, X_test, y_test, \n",
    "               name = 'Logistic Regression')\n",
    "plot_roc_curve(model_reg, X_test, y_test, \n",
    "               name = 'L1 Logistic Regression')"
   ]
  },
  {
   "cell_type": "markdown",
   "id": "4306a988",
   "metadata": {},
   "source": [
    "We also get the AUC values as part of the display."
   ]
  },
  {
   "cell_type": "markdown",
   "id": "ea0a064f",
   "metadata": {},
   "source": [
    "### Challenge Exercise\n",
    "\n",
    "Unlike basic (i.e. non-regularized) logistic regression, L1 logistic regression is not invariant to rescaling of the features. In fact, it is recommended to standardize the features before fitting the model.\n",
    "\n",
    "Use `scikit-learn` to standardize the data before splitting into test and training datasets (you want to perform the same transformation on both datasets). Then fit L1 logistic regression again, and compute the same metrics as above. Do you get better performance?"
   ]
  }
 ],
 "metadata": {
  "kernelspec": {
   "display_name": "Python 3",
   "language": "python",
   "name": "python3"
  },
  "language_info": {
   "codemirror_mode": {
    "name": "ipython",
    "version": 3
   },
   "file_extension": ".py",
   "mimetype": "text/x-python",
   "name": "python",
   "nbconvert_exporter": "python",
   "pygments_lexer": "ipython3",
   "version": "3.7.6"
  }
 },
 "nbformat": 4,
 "nbformat_minor": 5
}
