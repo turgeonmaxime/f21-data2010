{
 "cells": [
  {
   "cell_type": "markdown",
   "id": "34e09352",
   "metadata": {},
   "source": [
    "# Decision Tree Classification\n",
    "\n",
    "In this notebook, we discuss how to fit and evaluate a decision tree classification models in Python.\n",
    "\n",
    "We will use the Breast Cancer Wisconsin Diagnostic dataset, which was downloaded from the UCI Machine Learning repository."
   ]
  },
  {
   "cell_type": "code",
   "execution_count": 1,
   "id": "5e0c98ea",
   "metadata": {},
   "outputs": [
    {
     "data": {
      "text/html": [
       "<div>\n",
       "<style scoped>\n",
       "    .dataframe tbody tr th:only-of-type {\n",
       "        vertical-align: middle;\n",
       "    }\n",
       "\n",
       "    .dataframe tbody tr th {\n",
       "        vertical-align: top;\n",
       "    }\n",
       "\n",
       "    .dataframe thead th {\n",
       "        text-align: right;\n",
       "    }\n",
       "</style>\n",
       "<table border=\"1\" class=\"dataframe\">\n",
       "  <thead>\n",
       "    <tr style=\"text-align: right;\">\n",
       "      <th></th>\n",
       "      <th>target</th>\n",
       "      <th>radius_mean</th>\n",
       "      <th>texture_mean</th>\n",
       "      <th>perimeter_mean</th>\n",
       "      <th>area_mean</th>\n",
       "      <th>smoothness_mean</th>\n",
       "      <th>compactness_mean</th>\n",
       "      <th>concavity_mean</th>\n",
       "      <th>concave_pts_mean</th>\n",
       "      <th>symmetry_mean</th>\n",
       "      <th>...</th>\n",
       "      <th>radius_worst</th>\n",
       "      <th>texture_worst</th>\n",
       "      <th>perimeter_worst</th>\n",
       "      <th>area_worst</th>\n",
       "      <th>smoothness_worst</th>\n",
       "      <th>compactness_worst</th>\n",
       "      <th>concavity_worst</th>\n",
       "      <th>concave_pts_worst</th>\n",
       "      <th>symmetry_worst</th>\n",
       "      <th>fractal_dim_worst</th>\n",
       "    </tr>\n",
       "  </thead>\n",
       "  <tbody>\n",
       "    <tr>\n",
       "      <th>0</th>\n",
       "      <td>B</td>\n",
       "      <td>13.540</td>\n",
       "      <td>14.36</td>\n",
       "      <td>87.46</td>\n",
       "      <td>566.3</td>\n",
       "      <td>0.09779</td>\n",
       "      <td>0.08129</td>\n",
       "      <td>0.06664</td>\n",
       "      <td>0.047810</td>\n",
       "      <td>0.1885</td>\n",
       "      <td>...</td>\n",
       "      <td>15.110</td>\n",
       "      <td>19.26</td>\n",
       "      <td>99.70</td>\n",
       "      <td>711.2</td>\n",
       "      <td>0.14400</td>\n",
       "      <td>0.17730</td>\n",
       "      <td>0.23900</td>\n",
       "      <td>0.12880</td>\n",
       "      <td>0.2977</td>\n",
       "      <td>0.07259</td>\n",
       "    </tr>\n",
       "    <tr>\n",
       "      <th>1</th>\n",
       "      <td>B</td>\n",
       "      <td>13.080</td>\n",
       "      <td>15.71</td>\n",
       "      <td>85.63</td>\n",
       "      <td>520.0</td>\n",
       "      <td>0.10750</td>\n",
       "      <td>0.12700</td>\n",
       "      <td>0.04568</td>\n",
       "      <td>0.031100</td>\n",
       "      <td>0.1967</td>\n",
       "      <td>...</td>\n",
       "      <td>14.500</td>\n",
       "      <td>20.49</td>\n",
       "      <td>96.09</td>\n",
       "      <td>630.5</td>\n",
       "      <td>0.13120</td>\n",
       "      <td>0.27760</td>\n",
       "      <td>0.18900</td>\n",
       "      <td>0.07283</td>\n",
       "      <td>0.3184</td>\n",
       "      <td>0.08183</td>\n",
       "    </tr>\n",
       "    <tr>\n",
       "      <th>2</th>\n",
       "      <td>B</td>\n",
       "      <td>9.504</td>\n",
       "      <td>12.44</td>\n",
       "      <td>60.34</td>\n",
       "      <td>273.9</td>\n",
       "      <td>0.10240</td>\n",
       "      <td>0.06492</td>\n",
       "      <td>0.02956</td>\n",
       "      <td>0.020760</td>\n",
       "      <td>0.1815</td>\n",
       "      <td>...</td>\n",
       "      <td>10.230</td>\n",
       "      <td>15.66</td>\n",
       "      <td>65.13</td>\n",
       "      <td>314.9</td>\n",
       "      <td>0.13240</td>\n",
       "      <td>0.11480</td>\n",
       "      <td>0.08867</td>\n",
       "      <td>0.06227</td>\n",
       "      <td>0.2450</td>\n",
       "      <td>0.07773</td>\n",
       "    </tr>\n",
       "    <tr>\n",
       "      <th>3</th>\n",
       "      <td>B</td>\n",
       "      <td>13.030</td>\n",
       "      <td>18.42</td>\n",
       "      <td>82.61</td>\n",
       "      <td>523.8</td>\n",
       "      <td>0.08983</td>\n",
       "      <td>0.03766</td>\n",
       "      <td>0.02562</td>\n",
       "      <td>0.029230</td>\n",
       "      <td>0.1467</td>\n",
       "      <td>...</td>\n",
       "      <td>13.300</td>\n",
       "      <td>22.81</td>\n",
       "      <td>84.46</td>\n",
       "      <td>545.9</td>\n",
       "      <td>0.09701</td>\n",
       "      <td>0.04619</td>\n",
       "      <td>0.04833</td>\n",
       "      <td>0.05013</td>\n",
       "      <td>0.1987</td>\n",
       "      <td>0.06169</td>\n",
       "    </tr>\n",
       "    <tr>\n",
       "      <th>4</th>\n",
       "      <td>B</td>\n",
       "      <td>8.196</td>\n",
       "      <td>16.84</td>\n",
       "      <td>51.71</td>\n",
       "      <td>201.9</td>\n",
       "      <td>0.08600</td>\n",
       "      <td>0.05943</td>\n",
       "      <td>0.01588</td>\n",
       "      <td>0.005917</td>\n",
       "      <td>0.1769</td>\n",
       "      <td>...</td>\n",
       "      <td>8.964</td>\n",
       "      <td>21.96</td>\n",
       "      <td>57.26</td>\n",
       "      <td>242.2</td>\n",
       "      <td>0.12970</td>\n",
       "      <td>0.13570</td>\n",
       "      <td>0.06880</td>\n",
       "      <td>0.02564</td>\n",
       "      <td>0.3105</td>\n",
       "      <td>0.07409</td>\n",
       "    </tr>\n",
       "  </tbody>\n",
       "</table>\n",
       "<p>5 rows × 31 columns</p>\n",
       "</div>"
      ],
      "text/plain": [
       "  target  radius_mean  texture_mean  perimeter_mean  area_mean  \\\n",
       "0      B       13.540         14.36           87.46      566.3   \n",
       "1      B       13.080         15.71           85.63      520.0   \n",
       "2      B        9.504         12.44           60.34      273.9   \n",
       "3      B       13.030         18.42           82.61      523.8   \n",
       "4      B        8.196         16.84           51.71      201.9   \n",
       "\n",
       "   smoothness_mean  compactness_mean  concavity_mean  concave_pts_mean  \\\n",
       "0          0.09779           0.08129         0.06664          0.047810   \n",
       "1          0.10750           0.12700         0.04568          0.031100   \n",
       "2          0.10240           0.06492         0.02956          0.020760   \n",
       "3          0.08983           0.03766         0.02562          0.029230   \n",
       "4          0.08600           0.05943         0.01588          0.005917   \n",
       "\n",
       "   symmetry_mean  ...  radius_worst  texture_worst  perimeter_worst  \\\n",
       "0         0.1885  ...        15.110          19.26            99.70   \n",
       "1         0.1967  ...        14.500          20.49            96.09   \n",
       "2         0.1815  ...        10.230          15.66            65.13   \n",
       "3         0.1467  ...        13.300          22.81            84.46   \n",
       "4         0.1769  ...         8.964          21.96            57.26   \n",
       "\n",
       "   area_worst  smoothness_worst  compactness_worst  concavity_worst  \\\n",
       "0       711.2           0.14400            0.17730          0.23900   \n",
       "1       630.5           0.13120            0.27760          0.18900   \n",
       "2       314.9           0.13240            0.11480          0.08867   \n",
       "3       545.9           0.09701            0.04619          0.04833   \n",
       "4       242.2           0.12970            0.13570          0.06880   \n",
       "\n",
       "   concave_pts_worst  symmetry_worst  fractal_dim_worst  \n",
       "0            0.12880          0.2977            0.07259  \n",
       "1            0.07283          0.3184            0.08183  \n",
       "2            0.06227          0.2450            0.07773  \n",
       "3            0.05013          0.1987            0.06169  \n",
       "4            0.02564          0.3105            0.07409  \n",
       "\n",
       "[5 rows x 31 columns]"
      ]
     },
     "execution_count": 1,
     "metadata": {},
     "output_type": "execute_result"
    }
   ],
   "source": [
    "# Import data\n",
    "import pandas as pd\n",
    "\n",
    "df = pd.read_csv('wdbc.csv')\n",
    "df.head()"
   ]
  },
  {
   "cell_type": "markdown",
   "id": "29a4e0f8",
   "metadata": {},
   "source": [
    "The target variable is called `target`, and we want to use all remaining variables to try to predict it."
   ]
  },
  {
   "cell_type": "code",
   "execution_count": 2,
   "id": "04d62e4f",
   "metadata": {},
   "outputs": [
    {
     "data": {
      "text/plain": [
       "((512, 30), (57, 30))"
      ]
     },
     "execution_count": 2,
     "metadata": {},
     "output_type": "execute_result"
    }
   ],
   "source": [
    "# Split data into train and test sets\n",
    "from sklearn.model_selection import train_test_split\n",
    "\n",
    "X = df.drop('target', axis = 1)\n",
    "y = df.target\n",
    "\n",
    "# We specify the random state for reproducibility\n",
    "X_train, X_test, y_train, y_test = train_test_split(X, y, test_size = 0.1,\n",
    "                                                    random_state = 1234)\n",
    "(X_train.shape, X_test.shape)"
   ]
  },
  {
   "cell_type": "markdown",
   "id": "80ad39f3",
   "metadata": {},
   "source": [
    "Decision tree classification can be fitted using `scikit-learn`, and the syntax should now look familiar. "
   ]
  },
  {
   "cell_type": "code",
   "execution_count": 3,
   "id": "e1caac67",
   "metadata": {},
   "outputs": [
    {
     "data": {
      "text/plain": [
       "array(['M', 'B', 'M', 'B', 'B', 'B', 'M', 'M', 'B', 'B', 'B', 'M', 'B',\n",
       "       'B', 'B', 'B', 'B', 'M', 'B', 'B', 'B', 'B', 'B', 'M', 'M', 'M',\n",
       "       'B', 'B', 'B', 'M', 'M', 'B', 'M', 'M', 'B', 'B', 'B', 'M', 'B',\n",
       "       'B', 'B', 'M', 'B', 'B', 'B', 'M', 'M', 'M', 'B', 'M', 'M', 'B',\n",
       "       'M', 'M', 'M', 'B', 'M'], dtype=object)"
      ]
     },
     "execution_count": 3,
     "metadata": {},
     "output_type": "execute_result"
    }
   ],
   "source": [
    "# Fit Decision Tree\n",
    "from sklearn.tree import DecisionTreeClassifier\n",
    "\n",
    "model = DecisionTreeClassifier(random_state = 123)\n",
    "model.fit(X_train, y_train)\n",
    "\n",
    "# Get predicted values\n",
    "y_pred = model.predict(X_test)\n",
    "y_pred"
   ]
  },
  {
   "cell_type": "markdown",
   "id": "2e4b6160",
   "metadata": {},
   "source": [
    "### Exercise\n",
    "\n",
    "Compute the F-score of this classification."
   ]
  },
  {
   "cell_type": "code",
   "execution_count": 4,
   "id": "b0a0583f",
   "metadata": {},
   "outputs": [
    {
     "data": {
      "text/plain": [
       "0.8936170212765957"
      ]
     },
     "execution_count": 4,
     "metadata": {},
     "output_type": "execute_result"
    }
   ],
   "source": [
    "# Write your code below\n",
    "import sklearn.metrics\n",
    "\n",
    "sklearn.metrics.f1_score(y_test, y_pred, pos_label = 'M')"
   ]
  },
  {
   "cell_type": "markdown",
   "id": "864a529a",
   "metadata": {},
   "source": [
    "By default the tree is unpruned: it was grown until each node is either pure or contains only two observations. We can find its depth and the number of leaves using the following methods."
   ]
  },
  {
   "cell_type": "code",
   "execution_count": 5,
   "id": "c77908b1",
   "metadata": {},
   "outputs": [
    {
     "data": {
      "text/plain": [
       "7"
      ]
     },
     "execution_count": 5,
     "metadata": {},
     "output_type": "execute_result"
    }
   ],
   "source": [
    "model.get_depth()"
   ]
  },
  {
   "cell_type": "code",
   "execution_count": 6,
   "id": "3f0b05bf",
   "metadata": {},
   "outputs": [
    {
     "data": {
      "text/plain": [
       "19"
      ]
     },
     "execution_count": 6,
     "metadata": {},
     "output_type": "execute_result"
    }
   ],
   "source": [
    "model.get_n_leaves()"
   ]
  },
  {
   "cell_type": "markdown",
   "id": "e529bdce",
   "metadata": {},
   "source": [
    "Since we have 512 training observations, this means we have an average of about 27 observations per leaf."
   ]
  },
  {
   "cell_type": "markdown",
   "id": "349512b0",
   "metadata": {},
   "source": [
    "## Visualizing the tree\n",
    "\n",
    "As you can imagine, `scikit-learn` also has functions for visualizing the decision tree. Let's look at it."
   ]
  },
  {
   "cell_type": "code",
   "execution_count": 7,
   "id": "1ba57406",
   "metadata": {},
   "outputs": [
    {
     "data": {
      "image/png": "[encoded data removed]",
      "text/plain": [
       "<Figure size 1080x360 with 1 Axes>"
      ]
     },
     "metadata": {
      "needs_background": "light"
     },
     "output_type": "display_data"
    }
   ],
   "source": [
    "from matplotlib import pyplot as plt\n",
    "from sklearn import tree\n",
    "\n",
    "# Make the figure larger\n",
    "plt.rcParams['figure.figsize'] = [15, 5]\n",
    "\n",
    "# Specify the feature names using the column names of X_train\n",
    "tree.plot_tree(model, max_depth = 3,\n",
    "               feature_names = list(X_train.columns))\n",
    "plt.show()\n"
   ]
  },
  {
   "cell_type": "markdown",
   "id": "921ab29b",
   "metadata": {},
   "source": [
    "### Exercise\n",
    "\n",
    "As you may have noticed from the figure, the splitting criterion is actually the Gini impurity index. Look at the documentation of `DecisionTreeClassifier` and change the splitting criterion to Information Gain."
   ]
  },
  {
   "cell_type": "code",
   "execution_count": 12,
   "id": "1bdcf93c",
   "metadata": {},
   "outputs": [
    {
     "data": {
      "text/plain": [
       "17"
      ]
     },
     "execution_count": 12,
     "metadata": {},
     "output_type": "execute_result"
    }
   ],
   "source": [
    "# Write your code below\n",
    "model2 = DecisionTreeClassifier(criterion = 'entropy')\n",
    "\n",
    "model2.fit(X_train, y_train)\n",
    "\n",
    "y_pred2 = model2.predict(X_test)\n",
    "y_pred2"
   ]
  },
  {
   "cell_type": "markdown",
   "id": "b3ed6df3",
   "metadata": {},
   "source": [
    "## Pruning the tree\n",
    "\n",
    "To prune the tree, `scikit-learn` uses an algorithm called *Minimal Cost-Complexity Pruning*. The idea is based on regularization, which we have discussed for linear and logistic regression. We briefly discuss the mathematical details. \n",
    "\n",
    "For a given tree $T$ and a non-negative real number $\\alpha > 0$, we can define its cost-complexity as follows:\n",
    "\n",
    "$$R_\\alpha(T) = R(T) + \\alpha\\lvert\\tilde{T}\\rvert.$$\n",
    "\n",
    "$R(T)$ is the total weighted impurity at each leaf (weighted by the proportion of the training data ending in a particular leaf), and $\\lvert\\tilde{T}\\rvert$ is the number of leaves. Minimal cost-complexity pruning finds the subtree $T^\\prime$ of $T$ that minimizes $R_\\alpha(T^\\prime)$."
   ]
  },
  {
   "cell_type": "markdown",
   "id": "4c117156",
   "metadata": {},
   "source": [
    "### Exercise \n",
    "\n",
    "The pruning process is controlled by the argument `ccp_alpha`. Choose a (non-negative) value of `ccp_alpha`, and refit the decision tree. \n",
    "\n",
    "Compute the F-score, the number of leaves, and the depth of the pruned tree."
   ]
  },
  {
   "cell_type": "code",
   "execution_count": 9,
   "id": "1ab4f1d8",
   "metadata": {},
   "outputs": [],
   "source": [
    "# Write your code here\n",
    "\n",
    "\n"
   ]
  }
 ],
 "metadata": {
  "kernelspec": {
   "display_name": "Python 3",
   "language": "python",
   "name": "python3"
  },
  "language_info": {
   "codemirror_mode": {
    "name": "ipython",
    "version": 3
   },
   "file_extension": ".py",
   "mimetype": "text/x-python",
   "name": "python",
   "nbconvert_exporter": "python",
   "pygments_lexer": "ipython3",
   "version": "3.7.6"
  }
 },
 "nbformat": 4,
 "nbformat_minor": 5
}
