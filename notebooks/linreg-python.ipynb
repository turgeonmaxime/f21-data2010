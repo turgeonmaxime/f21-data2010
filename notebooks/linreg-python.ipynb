{
 "cells": [
  {
   "cell_type": "markdown",
   "id": "971c3314",
   "metadata": {},
   "source": [
    "# Linear regression in Python"
   ]
  },
  {
   "cell_type": "code",
   "execution_count": 103,
   "id": "0cbd64da",
   "metadata": {},
   "outputs": [
    {
     "name": "stdout",
     "output_type": "stream",
     "text": [
      "   year  age            maritl      race        education        jobclass  \\\n",
      "0  2006   18  1. Never Married  1. White     1. < HS Grad   1. Industrial   \n",
      "1  2004   24  1. Never Married  1. White  4. College Grad  2. Information   \n",
      "2  2003   45        2. Married  1. White  3. Some College   1. Industrial   \n",
      "3  2003   43        2. Married  3. Asian  4. College Grad  2. Information   \n",
      "4  2005   50       4. Divorced  1. White       2. HS Grad  2. Information   \n",
      "\n",
      "           health health_ins   logwage        wage  \n",
      "0       1. <=Good      2. No  4.318063   75.043154  \n",
      "1  2. >=Very Good      2. No  4.255273   70.476020  \n",
      "2       1. <=Good     1. Yes  4.875061  130.982177  \n",
      "3  2. >=Very Good     1. Yes  5.041393  154.685293  \n",
      "4       1. <=Good     1. Yes  4.318063   75.043154  \n"
     ]
    }
   ],
   "source": [
    "import pandas\n",
    "\n",
    "data = pandas.read_csv(\"wage.csv\")\n",
    "# In R: head(data)\n",
    "# In Python: data.head()\n",
    "print(data.head())"
   ]
  },
  {
   "cell_type": "markdown",
   "id": "bf9f61fa",
   "metadata": {},
   "source": [
    "We want to predict `wage` based on the other variables using linear regression. There are two main packages to do linear regression in Python:\n",
    "\n",
    "  1. `statsmodels`: its interface is very similar to R, based on formulas.\n",
    "  2. `scikit-learn`: the main package for machine learning.\n",
    "  \n",
    "We will look at both packages in order."
   ]
  },
  {
   "cell_type": "markdown",
   "id": "b8160ad3",
   "metadata": {},
   "source": [
    "Let's start by spliting our dataset in two pieces: train and test. The dataframe `data` has 3000 rows. We will randomly select 300 of them for the test dataset (i.e. about 10%), and the rest will form the training set."
   ]
  },
  {
   "cell_type": "code",
   "execution_count": 104,
   "id": "eb261041",
   "metadata": {},
   "outputs": [
    {
     "data": {
      "text/plain": [
       "(2700, 300)"
      ]
     },
     "execution_count": 104,
     "metadata": {},
     "output_type": "execute_result"
    }
   ],
   "source": [
    "data_test = data.sample(n = 300, random_state = 1234)\n",
    "data_train = data.drop(data_test.index)\n",
    "\n",
    "data_train.shape[0], data_test.shape[0]"
   ]
  },
  {
   "cell_type": "code",
   "execution_count": 105,
   "id": "e4b841d1",
   "metadata": {},
   "outputs": [
    {
     "name": "stdout",
     "output_type": "stream",
     "text": [
      "                            OLS Regression Results                            \n",
      "==============================================================================\n",
      "Dep. Variable:                   wage   R-squared:                       0.000\n",
      "Model:                            OLS   Adj. R-squared:                  0.000\n",
      "Method:                 Least Squares   F-statistic:                       nan\n",
      "Date:                Sat, 11 Dec 2021   Prob (F-statistic):                nan\n",
      "Time:                        17:37:32   Log-Likelihood:                -13954.\n",
      "No. Observations:                2700   AIC:                         2.791e+04\n",
      "Df Residuals:                    2699   BIC:                         2.792e+04\n",
      "Df Model:                           0                                         \n",
      "Covariance Type:            nonrobust                                         \n",
      "==============================================================================\n",
      "                 coef    std err          t      P>|t|      [0.025      0.975]\n",
      "------------------------------------------------------------------------------\n",
      "Intercept    112.2312      0.818    137.244      0.000     110.628     113.835\n",
      "==============================================================================\n",
      "Omnibus:                      951.589   Durbin-Watson:                   1.977\n",
      "Prob(Omnibus):                  0.000   Jarque-Bera (JB):             3827.596\n",
      "Skew:                           1.695   Prob(JB):                         0.00\n",
      "Kurtosis:                       7.747   Cond. No.                         1.00\n",
      "==============================================================================\n",
      "\n",
      "Notes:\n",
      "[1] Standard Errors assume that the covariance matrix of the errors is correctly specified.\n"
     ]
    }
   ],
   "source": [
    "import statsmodels.formula.api as smf\n",
    "\n",
    "# Note: The formula is passed as a string\n",
    "fit = smf.ols('wage ~ 1', data = data_train).fit()\n",
    "\n",
    "print(fit.summary())"
   ]
  },
  {
   "cell_type": "code",
   "execution_count": 106,
   "id": "fed84901",
   "metadata": {},
   "outputs": [
    {
     "name": "stdout",
     "output_type": "stream",
     "text": [
      "1936    112.23118\n",
      "85      112.23118\n",
      "2045    112.23118\n",
      "1230    112.23118\n",
      "2676    112.23118\n",
      "          ...    \n",
      "613     112.23118\n",
      "2236    112.23118\n",
      "2141    112.23118\n",
      "576     112.23118\n",
      "842     112.23118\n",
      "Length: 300, dtype: float64\n"
     ]
    }
   ],
   "source": [
    "pred_vals = fit.predict(data_test)\n",
    "print(pred_vals)"
   ]
  },
  {
   "cell_type": "code",
   "execution_count": 107,
   "id": "08f4be15",
   "metadata": {},
   "outputs": [
    {
     "data": {
      "text/plain": [
       "34.14792619490065"
      ]
     },
     "execution_count": 107,
     "metadata": {},
     "output_type": "execute_result"
    }
   ],
   "source": [
    "# RMSE\n",
    "import numpy as np\n",
    "\n",
    "actual_vals = data_test['wage']\n",
    "np.sqrt(np.mean((pred_vals - actual_vals)**2))"
   ]
  },
  {
   "cell_type": "code",
   "execution_count": 108,
   "id": "7599f01f",
   "metadata": {},
   "outputs": [
    {
     "data": {
      "text/plain": [
       "29.44715188917207"
      ]
     },
     "execution_count": 108,
     "metadata": {},
     "output_type": "execute_result"
    }
   ],
   "source": [
    "# MAPE\n",
    "100*np.mean(np.abs((pred_vals - actual_vals)/actual_vals))"
   ]
  },
  {
   "cell_type": "markdown",
   "id": "b8043ab1",
   "metadata": {},
   "source": [
    "Now let's use `age` as a covariate and see if we can improve the prediction accuracy."
   ]
  },
  {
   "cell_type": "code",
   "execution_count": 109,
   "id": "5b292f90",
   "metadata": {},
   "outputs": [
    {
     "data": {
      "text/plain": [
       "(32.95351934958674, 27.93519019628443)"
      ]
     },
     "execution_count": 109,
     "metadata": {},
     "output_type": "execute_result"
    }
   ],
   "source": [
    "fit2 = smf.ols('wage ~ age', data = data_train).fit()\n",
    "pred_vals2 = fit2.predict(data_test)\n",
    "rmse2 = np.sqrt(np.mean((pred_vals2 - actual_vals)**2))\n",
    "mape2 = 100*np.mean(np.abs((pred_vals2 - actual_vals)/actual_vals))\n",
    "\n",
    "rmse2, mape2"
   ]
  },
  {
   "cell_type": "markdown",
   "id": "ca38adf7",
   "metadata": {},
   "source": [
    "Just like in the lecture, we can try to add more covariates and see what happens."
   ]
  },
  {
   "cell_type": "code",
   "execution_count": 110,
   "id": "c724a814",
   "metadata": {},
   "outputs": [
    {
     "data": {
      "text/plain": [
       "(29.50978032571581, 24.23531208414976)"
      ]
     },
     "execution_count": 110,
     "metadata": {},
     "output_type": "execute_result"
    }
   ],
   "source": [
    "fit3 = smf.ols('wage ~ age + education', data = data_train).fit()\n",
    "pred_vals3 = fit3.predict(data_test)\n",
    "rmse3 = np.sqrt(np.mean((pred_vals3 - actual_vals)**2))\n",
    "mape3 = 100*np.mean(np.abs((pred_vals3 - actual_vals)/actual_vals))\n",
    "\n",
    "rmse3, mape3"
   ]
  },
  {
   "cell_type": "markdown",
   "id": "3ff94677",
   "metadata": {},
   "source": [
    "It's also always a good idea to write a function to avoid code repetition. Let's create a function that computes both the RMSE and the MAPE."
   ]
  },
  {
   "cell_type": "code",
   "execution_count": 111,
   "id": "9820ba2e",
   "metadata": {},
   "outputs": [
    {
     "data": {
      "text/plain": [
       "(29.50978032571581, 24.23531208414976)"
      ]
     },
     "execution_count": 111,
     "metadata": {},
     "output_type": "execute_result"
    }
   ],
   "source": [
    "def compute_metrics(predicted, actual = actual_vals):\n",
    "    rmse = np.sqrt(np.mean((predicted - actual)**2))\n",
    "    mape = 100*np.mean(np.abs((predicted - actual)/actual))\n",
    "    \n",
    "    return rmse, mape\n",
    "\n",
    "compute_metrics(pred_vals3)"
   ]
  },
  {
   "cell_type": "markdown",
   "id": "92563275",
   "metadata": {},
   "source": [
    "Unfortunately, `statsmodels` doesn't allow the `.` notation for selecting all variables, so we need to be explicit."
   ]
  },
  {
   "cell_type": "code",
   "execution_count": 112,
   "id": "3a0f3ba7",
   "metadata": {},
   "outputs": [
    {
     "data": {
      "text/plain": [
       "(27.82949112396453, 23.057299878318265)"
      ]
     },
     "execution_count": 112,
     "metadata": {},
     "output_type": "execute_result"
    }
   ],
   "source": [
    "fit4 = smf.ols('wage ~ year+age+maritl+race+education+jobclass+health+health_ins', \n",
    "               data = data_train).fit()\n",
    "pred_vals4 = fit4.predict(data_test)\n",
    "\n",
    "compute_metrics(pred_vals4)"
   ]
  },
  {
   "cell_type": "markdown",
   "id": "591eb375",
   "metadata": {},
   "source": [
    "As we can see, adding all remaining variables didn't lead to a large improvement.\n",
    "\n",
    "**Question**: Why didn't we include the last variable, `logwage`?"
   ]
  },
  {
   "cell_type": "markdown",
   "id": "12d374f3",
   "metadata": {},
   "source": [
    "### Exercise\n",
    "\n",
    "Fit a linear model with `age`, `maritl`, `education` and `jobclass`. Compute the RMSE and MAPE. Is this model any good?"
   ]
  },
  {
   "cell_type": "code",
   "execution_count": 113,
   "id": "efdfdee3",
   "metadata": {},
   "outputs": [],
   "source": [
    "# Write your code here\n",
    "\n"
   ]
  },
  {
   "cell_type": "markdown",
   "id": "916bca76",
   "metadata": {},
   "source": [
    "## Splines\n",
    "\n",
    "Let's see how we can use splines in this linear model. We will use splines with `age`, the only continuous covariate."
   ]
  },
  {
   "cell_type": "code",
   "execution_count": 114,
   "id": "636b9e46",
   "metadata": {},
   "outputs": [],
   "source": [
    "fit_spl = smf.ols('wage ~ bs(age, knots=(30, 50), degree=3)', data_train).fit()"
   ]
  },
  {
   "cell_type": "code",
   "execution_count": 115,
   "id": "6d448398",
   "metadata": {},
   "outputs": [
    {
     "data": {
      "text/plain": [
       "(32.356480486187785, 27.003521859155928)"
      ]
     },
     "execution_count": 115,
     "metadata": {},
     "output_type": "execute_result"
    }
   ],
   "source": [
    "pred_vals_spl = fit_spl.predict(data_test)\n",
    "\n",
    "compute_metrics(pred_vals_spl)"
   ]
  },
  {
   "cell_type": "code",
   "execution_count": 116,
   "id": "33917e59",
   "metadata": {},
   "outputs": [
    {
     "data": {
      "text/plain": [
       "(32.95351934958674, 27.93519019628443)"
      ]
     },
     "execution_count": 116,
     "metadata": {},
     "output_type": "execute_result"
    }
   ],
   "source": [
    "# Compare to model with only age\n",
    "compute_metrics(pred_vals2)"
   ]
  },
  {
   "cell_type": "markdown",
   "id": "430572c2",
   "metadata": {},
   "source": [
    "## Regularized regression\n",
    "\n",
    "Before discussing regularized linear regression in Python, we will quickly show how to perform (classical) linear regression with `scikit-learn`."
   ]
  },
  {
   "cell_type": "code",
   "execution_count": 117,
   "id": "adcae62f",
   "metadata": {},
   "outputs": [
    {
     "data": {
      "text/plain": [
       "year            int64\n",
       "age             int64\n",
       "maritl         object\n",
       "race           object\n",
       "education      object\n",
       "jobclass       object\n",
       "health         object\n",
       "health_ins     object\n",
       "logwage       float64\n",
       "wage          float64\n",
       "dtype: object"
      ]
     },
     "execution_count": 117,
     "metadata": {},
     "output_type": "execute_result"
    }
   ],
   "source": [
    "from sklearn.preprocessing import OneHotEncoder\n",
    "data.dtypes"
   ]
  },
  {
   "cell_type": "code",
   "execution_count": 118,
   "id": "9146436e",
   "metadata": {},
   "outputs": [],
   "source": [
    "X = data.select_dtypes(include=[object])\n",
    "# 1. instantiate the encoder\n",
    "enc = OneHotEncoder(drop = 'first')\n",
    "# 2. fit\n",
    "enc.fit(X)\n",
    "# 3. Transform\n",
    "X_cat = enc.transform(X).toarray()\n",
    "# Add back age\n",
    "age_vec = data['age'].to_numpy().reshape((3000, 1))\n",
    "X = np.hstack((age_vec, X_cat))\n",
    "\n",
    "# Extract wage\n",
    "y = data['wage'].to_numpy()"
   ]
  },
  {
   "cell_type": "code",
   "execution_count": 119,
   "id": "4da9d3b1",
   "metadata": {},
   "outputs": [
    {
     "data": {
      "text/plain": [
       "((300, 15), (300,))"
      ]
     },
     "execution_count": 119,
     "metadata": {},
     "output_type": "execute_result"
    }
   ],
   "source": [
    "from sklearn.model_selection import train_test_split\n",
    "from sklearn.linear_model import LinearRegression\n",
    "\n",
    "X_train, X_test, y_train, y_test = train_test_split(\n",
    "    X, y, test_size=0.1, random_state=1234\n",
    ")\n",
    "\n",
    "X_test.shape, y_test.shape"
   ]
  },
  {
   "cell_type": "code",
   "execution_count": 120,
   "id": "122a78fd",
   "metadata": {},
   "outputs": [
    {
     "data": {
      "text/plain": [
       "(28.104997435587798, 23.243208445997535)"
      ]
     },
     "execution_count": 120,
     "metadata": {},
     "output_type": "execute_result"
    }
   ],
   "source": [
    "# Create linear regression object\n",
    "regr = LinearRegression()\n",
    "\n",
    "# Train the model using the training sets\n",
    "regr.fit(X_train, y_train)\n",
    "\n",
    "# Make predictions using the testing set\n",
    "y_pred = regr.predict(X_test)\n",
    "\n",
    "# Compute evaluation metrics\n",
    "compute_metrics(y_pred, y_test)"
   ]
  },
  {
   "cell_type": "code",
   "execution_count": 121,
   "id": "7cf1cabd",
   "metadata": {},
   "outputs": [
    {
     "data": {
      "text/plain": [
       "66.34124901950348"
      ]
     },
     "execution_count": 121,
     "metadata": {},
     "output_type": "execute_result"
    }
   ],
   "source": [
    "# Note: The intercept is automatically estimated\n",
    "regr.intercept_"
   ]
  },
  {
   "cell_type": "code",
   "execution_count": 122,
   "id": "6289a0ae",
   "metadata": {},
   "outputs": [
    {
     "data": {
      "text/plain": [
       "(28.102403690168693, 23.24186508466164)"
      ]
     },
     "execution_count": 122,
     "metadata": {},
     "output_type": "execute_result"
    }
   ],
   "source": [
    "from sklearn.linear_model import Ridge\n",
    "# Create linear regression object\n",
    "regr_ridge = Ridge(alpha = 1.0)\n",
    "\n",
    "# Train the model using the training sets\n",
    "regr_ridge.fit(X_train, y_train)\n",
    "\n",
    "# Make predictions using the testing set\n",
    "y_pred_ridge = regr_ridge.predict(X_test)\n",
    "\n",
    "# Compute evaluation metrics\n",
    "compute_metrics(y_pred_ridge, y_test)"
   ]
  },
  {
   "cell_type": "code",
   "execution_count": 123,
   "id": "e7d28052",
   "metadata": {},
   "outputs": [
    {
     "data": {
      "text/plain": [
       "(28.483446151296956, 23.87019919968566)"
      ]
     },
     "execution_count": 123,
     "metadata": {},
     "output_type": "execute_result"
    }
   ],
   "source": [
    "from sklearn.linear_model import Lasso\n",
    "# Create lasso regression object\n",
    "regr_lasso = Lasso(alpha = 1.0)\n",
    "\n",
    "# Train the model using the training sets\n",
    "regr_lasso.fit(X_train, y_train)\n",
    "\n",
    "# Make predictions using the testing set\n",
    "y_pred_lasso = regr_lasso.predict(X_test)\n",
    "\n",
    "# Compute evaluation metrics\n",
    "compute_metrics(y_pred_lasso, y_test)"
   ]
  },
  {
   "cell_type": "markdown",
   "id": "af8a54bc",
   "metadata": {},
   "source": [
    "Lasso regression has the special property that it can provide estimates that are exactly zero."
   ]
  },
  {
   "cell_type": "code",
   "execution_count": 124,
   "id": "52c8c1dc",
   "metadata": {},
   "outputs": [
    {
     "data": {
      "text/plain": [
       "array([  0.36603283,  11.79356908,  -0.        ,  -0.        ,\n",
       "         0.        ,  -0.        ,   0.        ,  -0.        ,\n",
       "        -5.37865231,   0.        ,  12.44049747,  32.52175758,\n",
       "         2.56516129,   4.35302478, -16.47575325])"
      ]
     },
     "execution_count": 124,
     "metadata": {},
     "output_type": "execute_result"
    }
   ],
   "source": [
    "regr_lasso.coef_"
   ]
  },
  {
   "cell_type": "code",
   "execution_count": 125,
   "id": "1c14c742",
   "metadata": {},
   "outputs": [
    {
     "data": {
      "text/plain": [
       "array([False, False,  True,  True,  True,  True,  True,  True, False,\n",
       "        True, False, False, False, False, False])"
      ]
     },
     "execution_count": 125,
     "metadata": {},
     "output_type": "execute_result"
    }
   ],
   "source": [
    "regr_lasso.coef_ == 0.0"
   ]
  },
  {
   "cell_type": "code",
   "execution_count": null,
   "id": "db1ccab6",
   "metadata": {},
   "outputs": [],
   "source": []
  }
 ],
 "metadata": {
  "kernelspec": {
   "display_name": "Python 3",
   "language": "python",
   "name": "python3"
  },
  "language_info": {
   "codemirror_mode": {
    "name": "ipython",
    "version": 3
   },
   "file_extension": ".py",
   "mimetype": "text/x-python",
   "name": "python",
   "nbconvert_exporter": "python",
   "pygments_lexer": "ipython3",
   "version": "3.7.6"
  }
 },
 "nbformat": 4,
 "nbformat_minor": 5
}
