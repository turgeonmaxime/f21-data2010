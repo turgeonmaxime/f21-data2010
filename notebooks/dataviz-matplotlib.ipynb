{
 "cells": [
  {
   "cell_type": "markdown",
   "id": "7c9e03b8",
   "metadata": {},
   "source": [
    "# Visualization with matplotlib"
   ]
  },
  {
   "cell_type": "markdown",
   "id": "d8153019",
   "metadata": {},
   "source": [
    "## Lecture Objectives\n",
    "\n",
    "  - Create simple graphs in Python using `matplotlib`"
   ]
  },
  {
   "cell_type": "markdown",
   "id": "732725b1",
   "metadata": {},
   "source": [
    "## Motivation\n",
    "\n",
    "  - So far we've only been using R in class, but Python is also a very popular language for data science.\n",
    "  - As we start using Python more and more, you may not always want to switch back and forth between the two.\n",
    "  - In this lecture, you'll be introduced to the main plotting library in Python: `matplotlib`."
   ]
  },
  {
   "cell_type": "markdown",
   "id": "623b0dcc",
   "metadata": {},
   "source": [
    "## Disclaimer\n",
    "\n",
    "  - I personally prefer `ggplot2` to `matplotlib`.\n",
    "    + I find it more flexible, more powerful, and the syntax makes more sense (to me!).\n",
    "  - Therefore, when I create data visualization for a paper, I almost always use `ggplot2`.\n",
    "    + E.g. Do computation in Python, save results as CSV, import in R and plot.\n",
    "  - But I use `matplotlib` for quick visualization and sanity checks."
   ]
  },
  {
   "cell_type": "markdown",
   "id": "30b3cf6c",
   "metadata": {},
   "source": [
    "## Histograms\n",
    "\n",
    "  - We will start where we started with ggplot: the histogram.\n",
    "  - The basic function is `hist` in `matplotlib.pyplot`.\n",
    "  - We will start by generating random numbers using Numpy. We will see later how to import data."
   ]
  },
  {
   "cell_type": "code",
   "execution_count": 5,
   "id": "83c12548",
   "metadata": {},
   "outputs": [
    {
     "data": {
      "text/plain": [
       "(array([  3.,  26.,  89., 173., 229., 261., 141.,  63.,  13.,   2.]),\n",
       " array([-3.24091342, -2.56709793, -1.89328243, -1.21946694, -0.54565144,\n",
       "         0.12816405,  0.80197955,  1.47579505,  2.14961054,  2.82342604,\n",
       "         3.49724153]),\n",
       " <BarContainer object of 10 artists>)"
      ]
     },
     "execution_count": 5,
     "metadata": {},
     "output_type": "execute_result"
    },
    {
     "data": {
      "image/png": "[encoded data removed]",
      "text/plain": [
       "<Figure size 432x288 with 1 Axes>"
      ]
     },
     "metadata": {
      "needs_background": "light"
     },
     "output_type": "display_data"
    }
   ],
   "source": [
    "%matplotlib inline\n",
    "import numpy as np\n",
    "import matplotlib.pyplot as plt\n",
    "\n",
    "data = np.random.randn(1000)\n",
    "plt.hist(data)"
   ]
  },
  {
   "cell_type": "markdown",
   "id": "ae610742",
   "metadata": {},
   "source": [
    "The `hist` function has many parameters you can use to customize your plots."
   ]
  },
  {
   "cell_type": "code",
   "execution_count": 6,
   "id": "95061dc7",
   "metadata": {},
   "outputs": [
    {
     "data": {
      "text/plain": [
       "(array([0.00445226, 0.        , 0.00890451, 0.01335677, 0.04452257,\n",
       "        0.05787935, 0.08904515, 0.11130643, 0.19589932, 0.19144707,\n",
       "        0.2715877 , 0.30720576, 0.32501479, 0.37398962, 0.32056253,\n",
       "        0.43186896, 0.36063285, 0.36953736, 0.28494447, 0.20035158,\n",
       "        0.14247224, 0.10685418, 0.10685418, 0.06678386, 0.02671354,\n",
       "        0.02226129, 0.00890451, 0.00445226, 0.        , 0.00445226]),\n",
       " array([-3.24091342, -3.01630826, -2.79170309, -2.56709793, -2.34249276,\n",
       "        -2.1178876 , -1.89328243, -1.66867727, -1.4440721 , -1.21946694,\n",
       "        -0.99486177, -0.77025661, -0.54565144, -0.32104628, -0.09644111,\n",
       "         0.12816405,  0.35276922,  0.57737439,  0.80197955,  1.02658472,\n",
       "         1.25118988,  1.47579505,  1.70040021,  1.92500538,  2.14961054,\n",
       "         2.37421571,  2.59882087,  2.82342604,  3.0480312 ,  3.27263637,\n",
       "         3.49724153]),\n",
       " [<matplotlib.patches.Polygon at 0x7f83110c7e90>])"
      ]
     },
     "execution_count": 6,
     "metadata": {},
     "output_type": "execute_result"
    },
    {
     "data": {
      "image/png": "[encoded data removed]",
      "text/plain": [
       "<Figure size 432x288 with 1 Axes>"
      ]
     },
     "metadata": {
      "needs_background": "light"
     },
     "output_type": "display_data"
    }
   ],
   "source": [
    "plt.hist(data, bins = 30, density = True, alpha = 0.5,\n",
    "         histtype = 'stepfilled', color = 'steelblue')"
   ]
  },
  {
   "cell_type": "markdown",
   "id": "b85a60c0",
   "metadata": {},
   "source": [
    "Let's go over each and see what they do:\n",
    "\n",
    "  - `bins`: Controls the number of bins\n",
    "  - `density`: Whether we want a frequency or density histogram (look at the y-axis!)\n",
    "  - `alpha`: Controls transparency (just like in ggplot2)\n",
    "  - `histtype`: Type of histogram to draw. Default is `\"bar\"`. Type `\"stepfilled\"` is a lineplot (for the steps) that is filled. Try `\"step\"` to see what's going on.\n",
    "  - `color`: Controls the colour."
   ]
  },
  {
   "cell_type": "markdown",
   "id": "19299c76",
   "metadata": {},
   "source": [
    "### Exercise\n",
    "\n",
    "Repeat the histogram above but using `histtype = \"step\"`, `alpha = 1`, and change the colour."
   ]
  },
  {
   "cell_type": "code",
   "execution_count": 7,
   "id": "1ce97c91",
   "metadata": {},
   "outputs": [],
   "source": [
    "# Write your code here.\n",
    "\n",
    "\n"
   ]
  },
  {
   "cell_type": "markdown",
   "id": "7f3cb308",
   "metadata": {},
   "source": [
    "Now let's try with the `olive` dataset. I saved it as a CSV file."
   ]
  },
  {
   "cell_type": "code",
   "execution_count": 8,
   "id": "f4eb59e8",
   "metadata": {},
   "outputs": [
    {
     "name": "stdout",
     "output_type": "stream",
     "text": [
      "           region          area  palmitic  palmitoleic  stearic  oleic  \\\n",
      "0  Southern Italy  North-Apulia     10.75         0.75     2.26  78.23   \n",
      "1  Southern Italy  North-Apulia     10.88         0.73     2.24  77.09   \n",
      "2  Southern Italy  North-Apulia      9.11         0.54     2.46  81.13   \n",
      "3  Southern Italy  North-Apulia      9.66         0.57     2.40  79.52   \n",
      "4  Southern Italy  North-Apulia     10.51         0.67     2.59  77.71   \n",
      "\n",
      "   linoleic  linolenic  arachidic  eicosenoic  \n",
      "0      6.72       0.36       0.60        0.29  \n",
      "1      7.81       0.31       0.61        0.29  \n",
      "2      5.49       0.31       0.63        0.29  \n",
      "3      6.19       0.50       0.78        0.35  \n",
      "4      6.72       0.50       0.80        0.46  \n"
     ]
    }
   ],
   "source": [
    "import pandas\n",
    "\n",
    "olive = pandas.read_csv(\"olive.csv\")\n",
    "print(olive.head())"
   ]
  },
  {
   "cell_type": "code",
   "execution_count": 9,
   "id": "fdbac9c3",
   "metadata": {},
   "outputs": [],
   "source": [
    "data_south = olive[olive[\"region\"] == \"Southern Italy\"][\"oleic\"]\n",
    "data_north = olive[olive[\"region\"] == \"Northern Italy\"][\"oleic\"]\n",
    "data_sard = olive[olive[\"region\"] == \"Sardinia\"][\"oleic\"]"
   ]
  },
  {
   "cell_type": "code",
   "execution_count": 10,
   "id": "dbc82947",
   "metadata": {},
   "outputs": [
    {
     "data": {
      "text/plain": [
       "(array([ 1.,  2.,  6., 11.,  8.,  5.,  1., 16., 25., 23.]),\n",
       " array([68.82 , 69.377, 69.934, 70.491, 71.048, 71.605, 72.162, 72.719,\n",
       "        73.276, 73.833, 74.39 ]),\n",
       " <BarContainer object of 10 artists>)"
      ]
     },
     "execution_count": 10,
     "metadata": {},
     "output_type": "execute_result"
    },
    {
     "data": {
      "image/png": "[encoded data removed]",
      "text/plain": [
       "<Figure size 432x288 with 1 Axes>"
      ]
     },
     "metadata": {
      "needs_background": "light"
     },
     "output_type": "display_data"
    }
   ],
   "source": [
    "plt.hist(data_south)\n",
    "plt.hist(data_north)\n",
    "plt.hist(data_sard)"
   ]
  },
  {
   "cell_type": "markdown",
   "id": "14c93ac2",
   "metadata": {},
   "source": [
    "Note: These are **not** stacked histograms! We're printing each histogram on top of the next.\n",
    "\n",
    "Now let's customize this further by adding transparency and a legend."
   ]
  },
  {
   "cell_type": "code",
   "execution_count": 11,
   "id": "228f0498",
   "metadata": {},
   "outputs": [
    {
     "data": {
      "text/plain": [
       "<matplotlib.legend.Legend at 0x7f8312005b50>"
      ]
     },
     "execution_count": 11,
     "metadata": {},
     "output_type": "execute_result"
    },
    {
     "data": {
      "image/png": "[encoded data removed]",
      "text/plain": [
       "<Figure size 432x288 with 1 Axes>"
      ]
     },
     "metadata": {
      "needs_background": "light"
     },
     "output_type": "display_data"
    }
   ],
   "source": [
    "# Add transparency\n",
    "plt.hist(data_south, alpha = 0.5, label = \"Southern Italy\")\n",
    "plt.hist(data_north, alpha = 0.5, label = \"Northern Italy\")\n",
    "plt.hist(data_sard, alpha = 0.5, label = \"Sardinia\")\n",
    "\n",
    "# Add legend\n",
    "# Only labeled parts will be added\n",
    "plt.legend()"
   ]
  },
  {
   "cell_type": "markdown",
   "id": "6a01221c",
   "metadata": {},
   "source": [
    "## Boxplots"
   ]
  },
  {
   "cell_type": "markdown",
   "id": "a99152e0",
   "metadata": {},
   "source": [
    "Next, let's discuss boxplots."
   ]
  },
  {
   "cell_type": "code",
   "execution_count": 12,
   "id": "67dd63ea",
   "metadata": {},
   "outputs": [
    {
     "data": {
      "text/plain": [
       "{'whiskers': [<matplotlib.lines.Line2D at 0x7f83121fd690>,\n",
       "  <matplotlib.lines.Line2D at 0x7f83121fda90>],\n",
       " 'caps': [<matplotlib.lines.Line2D at 0x7f83121fded0>,\n",
       "  <matplotlib.lines.Line2D at 0x7f8312222350>],\n",
       " 'boxes': [<matplotlib.lines.Line2D at 0x7f83121fd310>],\n",
       " 'medians': [<matplotlib.lines.Line2D at 0x7f83122227d0>],\n",
       " 'fliers': [<matplotlib.lines.Line2D at 0x7f8312222c10>],\n",
       " 'means': []}"
      ]
     },
     "execution_count": 12,
     "metadata": {},
     "output_type": "execute_result"
    },
    {
     "data": {
      "image/png": "[encoded data removed]",
      "text/plain": [
       "<Figure size 432x288 with 1 Axes>"
      ]
     },
     "metadata": {
      "needs_background": "light"
     },
     "output_type": "display_data"
    }
   ],
   "source": [
    "# Single boxplot\n",
    "plt.boxplot(data)"
   ]
  },
  {
   "cell_type": "markdown",
   "id": "c87299cb",
   "metadata": {},
   "source": [
    "To create multiple boxplots next to one another, we can pass a list of vectors."
   ]
  },
  {
   "cell_type": "code",
   "execution_count": 13,
   "id": "d32a145a",
   "metadata": {},
   "outputs": [
    {
     "data": {
      "text/plain": [
       "{'whiskers': [<matplotlib.lines.Line2D at 0x7f83122e6dd0>,\n",
       "  <matplotlib.lines.Line2D at 0x7f83122ed250>,\n",
       "  <matplotlib.lines.Line2D at 0x7f83122f6c50>,\n",
       "  <matplotlib.lines.Line2D at 0x7f831231b090>,\n",
       "  <matplotlib.lines.Line2D at 0x7f8312324a50>,\n",
       "  <matplotlib.lines.Line2D at 0x7f8312324ed0>],\n",
       " 'caps': [<matplotlib.lines.Line2D at 0x7f83122ed690>,\n",
       "  <matplotlib.lines.Line2D at 0x7f83122edad0>,\n",
       "  <matplotlib.lines.Line2D at 0x7f831231b4d0>,\n",
       "  <matplotlib.lines.Line2D at 0x7f831231b910>,\n",
       "  <matplotlib.lines.Line2D at 0x7f8312330350>,\n",
       "  <matplotlib.lines.Line2D at 0x7f83123307d0>],\n",
       " 'boxes': [<matplotlib.lines.Line2D at 0x7f83122e69d0>,\n",
       "  <matplotlib.lines.Line2D at 0x7f83122f6810>,\n",
       "  <matplotlib.lines.Line2D at 0x7f8312324610>],\n",
       " 'medians': [<matplotlib.lines.Line2D at 0x7f83122edf50>,\n",
       "  <matplotlib.lines.Line2D at 0x7f831231bd50>,\n",
       "  <matplotlib.lines.Line2D at 0x7f8312330c10>],\n",
       " 'fliers': [<matplotlib.lines.Line2D at 0x7f83122f63d0>,\n",
       "  <matplotlib.lines.Line2D at 0x7f83123241d0>,\n",
       "  <matplotlib.lines.Line2D at 0x7f8312339090>],\n",
       " 'means': []}"
      ]
     },
     "execution_count": 13,
     "metadata": {},
     "output_type": "execute_result"
    },
    {
     "data": {
      "image/png": "[encoded data removed]",
      "text/plain": [
       "<Figure size 432x288 with 1 Axes>"
      ]
     },
     "metadata": {
      "needs_background": "light"
     },
     "output_type": "display_data"
    }
   ],
   "source": [
    "# List with three elements, each a vector of data\n",
    "olive_box = [data_south, data_north, data_sard]\n",
    "plt.boxplot(olive_box)"
   ]
  },
  {
   "cell_type": "markdown",
   "id": "5e08cfcd",
   "metadata": {},
   "source": [
    "By default, the labels on the x-axis are simply numbers. We can change that using the `labels` argument."
   ]
  },
  {
   "cell_type": "code",
   "execution_count": 14,
   "id": "a6d4ade3",
   "metadata": {},
   "outputs": [
    {
     "data": {
      "text/plain": [
       "{'whiskers': [<matplotlib.lines.Line2D at 0x7f83123fb950>,\n",
       "  <matplotlib.lines.Line2D at 0x7f83123fbd90>,\n",
       "  <matplotlib.lines.Line2D at 0x7f83124107d0>,\n",
       "  <matplotlib.lines.Line2D at 0x7f8312410bd0>,\n",
       "  <matplotlib.lines.Line2D at 0x7f83124255d0>,\n",
       "  <matplotlib.lines.Line2D at 0x7f8312425a50>],\n",
       " 'caps': [<matplotlib.lines.Line2D at 0x7f8312405210>,\n",
       "  <matplotlib.lines.Line2D at 0x7f8312405650>,\n",
       "  <matplotlib.lines.Line2D at 0x7f831241a050>,\n",
       "  <matplotlib.lines.Line2D at 0x7f831241a490>,\n",
       "  <matplotlib.lines.Line2D at 0x7f8312425e90>,\n",
       "  <matplotlib.lines.Line2D at 0x7f831242f350>],\n",
       " 'boxes': [<matplotlib.lines.Line2D at 0x7f83123fb550>,\n",
       "  <matplotlib.lines.Line2D at 0x7f8312410390>,\n",
       "  <matplotlib.lines.Line2D at 0x7f8312425190>],\n",
       " 'medians': [<matplotlib.lines.Line2D at 0x7f8312405ad0>,\n",
       "  <matplotlib.lines.Line2D at 0x7f831241a8d0>,\n",
       "  <matplotlib.lines.Line2D at 0x7f831242f790>],\n",
       " 'fliers': [<matplotlib.lines.Line2D at 0x7f8312405f10>,\n",
       "  <matplotlib.lines.Line2D at 0x7f831241ad10>,\n",
       "  <matplotlib.lines.Line2D at 0x7f831242fbd0>],\n",
       " 'means': []}"
      ]
     },
     "execution_count": 14,
     "metadata": {},
     "output_type": "execute_result"
    },
    {
     "data": {
      "image/png": "[encoded data removed]",
      "text/plain": [
       "<Figure size 432x288 with 1 Axes>"
      ]
     },
     "metadata": {
      "needs_background": "light"
     },
     "output_type": "display_data"
    }
   ],
   "source": [
    "plt.boxplot(olive_box, \n",
    "            labels = [\"North. Italy\", \"South. Italy\", \"Sardinia\"])"
   ]
  },
  {
   "cell_type": "markdown",
   "id": "f2663325",
   "metadata": {},
   "source": [
    "### Exercise\n",
    "\n",
    "One of the parameters to `boxplot` is `notch`. What does it do?"
   ]
  },
  {
   "cell_type": "markdown",
   "id": "af59a56c",
   "metadata": {},
   "source": [
    "## Barplot"
   ]
  },
  {
   "cell_type": "markdown",
   "id": "03fff107",
   "metadata": {},
   "source": [
    "For bar plots, you need to specify two lists:\n",
    "  - The levels of the categorical variable\n",
    "  - The counts in each group (or the value we want to display)\n",
    "  \n",
    "Recall that in `R` the counts were computed by ggplot; here we have to pass the counts explicitly."
   ]
  },
  {
   "cell_type": "code",
   "execution_count": 15,
   "id": "d40aa484",
   "metadata": {},
   "outputs": [
    {
     "data": {
      "text/plain": [
       "<BarContainer object of 5 artists>"
      ]
     },
     "execution_count": 15,
     "metadata": {},
     "output_type": "execute_result"
    },
    {
     "data": {
      "image/png": "[encoded data removed]",
      "text/plain": [
       "<Figure size 432x288 with 1 Axes>"
      ]
     },
     "metadata": {
      "needs_background": "light"
     },
     "output_type": "display_data"
    }
   ],
   "source": [
    "data = [23, 45, 56, 78, 213]\n",
    "plt.bar([1,2,3,4,5], data)"
   ]
  },
  {
   "cell_type": "code",
   "execution_count": 16,
   "id": "46cec65a",
   "metadata": {},
   "outputs": [
    {
     "data": {
      "text/plain": [
       "<BarContainer object of 5 artists>"
      ]
     },
     "execution_count": 16,
     "metadata": {},
     "output_type": "execute_result"
    },
    {
     "data": {
      "image/png": "[encoded data removed]",
      "text/plain": [
       "<Figure size 432x288 with 1 Axes>"
      ]
     },
     "metadata": {
      "needs_background": "light"
     },
     "output_type": "display_data"
    }
   ],
   "source": [
    "# Levels can also be strings\n",
    "plt.bar([\"Apple\",\"Pear\",\"Banana\",\"Pineapple\",\"Orange\"], \n",
    "        data)"
   ]
  },
  {
   "cell_type": "markdown",
   "id": "1fc28f15",
   "metadata": {},
   "source": [
    "For more control, we can also create each bar separately (like we did for histograms)."
   ]
  },
  {
   "cell_type": "code",
   "execution_count": 17,
   "id": "4a51baea",
   "metadata": {},
   "outputs": [
    {
     "data": {
      "text/plain": [
       "<BarContainer object of 1 artists>"
      ]
     },
     "execution_count": 17,
     "metadata": {},
     "output_type": "execute_result"
    },
    {
     "data": {
      "image/png": "[encoded data removed]",
      "text/plain": [
       "<Figure size 432x288 with 1 Axes>"
      ]
     },
     "metadata": {
      "needs_background": "light"
     },
     "output_type": "display_data"
    }
   ],
   "source": [
    "# Beware: the function is len() in Python\n",
    "#         but length() in R!\n",
    "\n",
    "plt.bar(\"North. Italy\", len(data_north))\n",
    "plt.bar(\"South. Italy\", len(data_south))\n",
    "plt.bar(\"Sardinia\", len(data_sard))"
   ]
  },
  {
   "cell_type": "markdown",
   "id": "7989b068",
   "metadata": {},
   "source": [
    "You can also change the colours using one of the built in palettes (for more info: https://matplotlib.org/stable/tutorials/colors/colormaps.html)."
   ]
  },
  {
   "cell_type": "code",
   "execution_count": 18,
   "id": "b5a2c283",
   "metadata": {},
   "outputs": [
    {
     "name": "stdout",
     "output_type": "stream",
     "text": [
      "[[0.267004 0.004874 0.329415 1.      ]\n",
      " [0.127568 0.566949 0.550556 1.      ]\n",
      " [0.993248 0.906157 0.143936 1.      ]]\n"
     ]
    }
   ],
   "source": [
    "# np.linspace is the equivalent of seq in R\n",
    "# It outputs equidistant values between min=0 and max=1\n",
    "colours = plt.cm.viridis(np.linspace(0, 1, 3))\n",
    "\n",
    "# The output is a list of RGBA values\n",
    "print(colours)"
   ]
  },
  {
   "cell_type": "code",
   "execution_count": 19,
   "id": "3450b205",
   "metadata": {},
   "outputs": [
    {
     "data": {
      "text/plain": [
       "<BarContainer object of 1 artists>"
      ]
     },
     "execution_count": 19,
     "metadata": {},
     "output_type": "execute_result"
    },
    {
     "data": {
      "image/png": "[encoded data removed]",
      "text/plain": [
       "<Figure size 432x288 with 1 Axes>"
      ]
     },
     "metadata": {
      "needs_background": "light"
     },
     "output_type": "display_data"
    }
   ],
   "source": [
    "plt.bar(\"North. Italy\", len(data_north), color = colours[0])\n",
    "plt.bar(\"South. Italy\", len(data_south), color = colours[1])\n",
    "plt.bar(\"Sardinia\", len(data_sard), color = colours[2])"
   ]
  },
  {
   "cell_type": "markdown",
   "id": "14bbe65b",
   "metadata": {},
   "source": [
    "### Exercise\n",
    "\n",
    "Create a bar plot with percentages on the y-axis?"
   ]
  },
  {
   "cell_type": "code",
   "execution_count": 20,
   "id": "d49b8f34",
   "metadata": {},
   "outputs": [],
   "source": [
    "# Write your code here\n",
    "\n",
    "\n"
   ]
  },
  {
   "cell_type": "markdown",
   "id": "ffe5b939",
   "metadata": {},
   "source": [
    "## Scatter plots and line plots"
   ]
  },
  {
   "cell_type": "markdown",
   "id": "e8e60889",
   "metadata": {},
   "source": [
    "Scatter plots and line plots are actually created using the same function, like in base R. First, we will look at scatter plots."
   ]
  },
  {
   "cell_type": "code",
   "execution_count": 21,
   "id": "5a50f458",
   "metadata": {},
   "outputs": [
    {
     "data": {
      "text/plain": [
       "[<matplotlib.lines.Line2D at 0x7f83128e0490>]"
      ]
     },
     "execution_count": 21,
     "metadata": {},
     "output_type": "execute_result"
    },
    {
     "data": {
      "image/png": "[encoded data removed]",
      "text/plain": [
       "<Figure size 432x288 with 1 Axes>"
      ]
     },
     "metadata": {
      "needs_background": "light"
     },
     "output_type": "display_data"
    }
   ],
   "source": [
    "x = np.linspace(0, 10, 30)\n",
    "y = np.sin(x)\n",
    "\n",
    "plt.plot(x, y, 'o', color='black')"
   ]
  },
  {
   "cell_type": "markdown",
   "id": "f8e36953",
   "metadata": {},
   "source": [
    "The third argument `\"o\"` controls how the points look."
   ]
  },
  {
   "cell_type": "code",
   "execution_count": 22,
   "id": "43738ee4",
   "metadata": {},
   "outputs": [
    {
     "data": {
      "text/plain": [
       "[<matplotlib.lines.Line2D at 0x7f83120f5410>]"
      ]
     },
     "execution_count": 22,
     "metadata": {},
     "output_type": "execute_result"
    },
    {
     "data": {
      "image/png": "[encoded data removed]",
      "text/plain": [
       "<Figure size 432x288 with 1 Axes>"
      ]
     },
     "metadata": {
      "needs_background": "light"
     },
     "output_type": "display_data"
    }
   ],
   "source": [
    "plt.plot(x, y, 'x', color = 'black')"
   ]
  },
  {
   "cell_type": "markdown",
   "id": "ab0a641f",
   "metadata": {},
   "source": [
    "If you prefer a line plot, you can simply omit the third argument altogether."
   ]
  },
  {
   "cell_type": "code",
   "execution_count": 23,
   "id": "bde72d23",
   "metadata": {},
   "outputs": [
    {
     "data": {
      "text/plain": [
       "[<matplotlib.lines.Line2D at 0x7f8312672290>]"
      ]
     },
     "execution_count": 23,
     "metadata": {},
     "output_type": "execute_result"
    },
    {
     "data": {
      "image/png": "[encoded data removed]",
      "text/plain": [
       "<Figure size 432x288 with 1 Axes>"
      ]
     },
     "metadata": {
      "needs_background": "light"
     },
     "output_type": "display_data"
    }
   ],
   "source": [
    "plt.plot(x, y, color = 'black')"
   ]
  },
  {
   "cell_type": "markdown",
   "id": "a5dc73a2",
   "metadata": {},
   "source": [
    "You can add as many lines as you like. Here is a sample of different ways of specifying the colour."
   ]
  },
  {
   "cell_type": "code",
   "execution_count": 24,
   "id": "7553cddd",
   "metadata": {},
   "outputs": [
    {
     "data": {
      "text/plain": [
       "[<matplotlib.lines.Line2D at 0x7f8312bc9350>]"
      ]
     },
     "execution_count": 24,
     "metadata": {},
     "output_type": "execute_result"
    },
    {
     "data": {
      "image/png": "[encoded data removed]",
      "text/plain": [
       "<Figure size 432x288 with 1 Axes>"
      ]
     },
     "metadata": {
      "needs_background": "light"
     },
     "output_type": "display_data"
    }
   ],
   "source": [
    "plt.plot(x, np.sin(x - 0), color='blue')        # specify color by name\n",
    "plt.plot(x, np.sin(x - 1), color='g')           # short color code (rgbcmyk)\n",
    "plt.plot(x, np.sin(x - 2), color='0.75')        # Grayscale between 0 and 1\n",
    "plt.plot(x, np.sin(x - 3), color='#FFDD44')     # Hex code (RRGGBB from 00 to FF)\n",
    "plt.plot(x, np.sin(x - 4), color=(1.0,0.2,0.3)) # RGB tuple, values 0 to 1\n",
    "plt.plot(x, np.sin(x - 5), color='chartreuse')  # all HTML color names supported"
   ]
  },
  {
   "cell_type": "markdown",
   "id": "8e51b99b",
   "metadata": {},
   "source": [
    "Finally, we can use the scatter plot on the olive dataset."
   ]
  },
  {
   "cell_type": "code",
   "execution_count": 28,
   "id": "9baeffae",
   "metadata": {},
   "outputs": [
    {
     "data": {
      "text/plain": [
       "Text(0, 0.5, 'Linolenic')"
      ]
     },
     "execution_count": 28,
     "metadata": {},
     "output_type": "execute_result"
    },
    {
     "data": {
      "image/png": "[encoded data removed]",
      "text/plain": [
       "<Figure size 432x288 with 1 Axes>"
      ]
     },
     "metadata": {
      "needs_background": "light"
     },
     "output_type": "display_data"
    }
   ],
   "source": [
    "plt.plot(olive[\"arachidic\"],\n",
    "         olive[\"linolenic\"], \"o\")\n",
    "\n",
    "# Add axis labels\n",
    "plt.xlabel(\"Arachidic\")\n",
    "plt.ylabel(\"Linolenic\")"
   ]
  }
 ],
 "metadata": {
  "kernelspec": {
   "display_name": "Python 3",
   "language": "python",
   "name": "python3"
  },
  "language_info": {
   "codemirror_mode": {
    "name": "ipython",
    "version": 3
   },
   "file_extension": ".py",
   "mimetype": "text/x-python",
   "name": "python",
   "nbconvert_exporter": "python",
   "pygments_lexer": "ipython3",
   "version": "3.7.6"
  }
 },
 "nbformat": 4,
 "nbformat_minor": 5
}
