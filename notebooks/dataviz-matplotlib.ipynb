{
 "cells": [
  {
   "cell_type": "markdown",
   "id": "7c9e03b8",
   "metadata": {},
   "source": [
    "# Visualization with matplotlib"
   ]
  },
  {
   "cell_type": "markdown",
   "id": "d8153019",
   "metadata": {},
   "source": [
    "## Lecture Objectives\n",
    "\n",
    "  - Create simple graphs in Python using `matplotlib`"
   ]
  },
  {
   "cell_type": "markdown",
   "id": "732725b1",
   "metadata": {},
   "source": [
    "## Motivation\n",
    "\n",
    "  - So far we've only been using R in class, but Python is also a very popular language for data science.\n",
    "  - As we start using Python more and more, you may not always want to switch back and forth between the two.\n",
    "  - In this lecture, you'll be introduced to the main plotting library in Python: `matplotlib`."
   ]
  },
  {
   "cell_type": "markdown",
   "id": "623b0dcc",
   "metadata": {},
   "source": [
    "## Disclaimer\n",
    "\n",
    "  - I personally prefer `ggplot2` to `matplotlib`.\n",
    "    + I find it more flexible, more powerful, and the syntax makes more sense (to me!).\n",
    "  - Therefore, when I create data visualization for a paper, I almost always use `ggplot2`.\n",
    "    + E.g. Do computation in Python, save results as CSV, import in R and plot.\n",
    "  - But I use `matplotlib` for quick visualization and sanity checks."
   ]
  },
  {
   "cell_type": "markdown",
   "id": "30b3cf6c",
   "metadata": {},
   "source": [
    "## Histograms\n",
    "\n",
    "  - We will start where we started with ggplot: the histogram.\n",
    "  - The basic function is `hist` in `matplotlib.pyplot`.\n",
    "  - We will start by generating random numbers using Numpy. We will see later how to import data."
   ]
  },
  {
   "cell_type": "code",
   "execution_count": 2,
   "id": "83c12548",
   "metadata": {},
   "outputs": [
    {
     "data": {
      "text/plain": [
       "(array([ 20.,  54., 113., 155., 207., 215., 121.,  82.,  22.,  11.]),\n",
       " array([-2.64527183, -2.0790192 , -1.51276656, -0.94651392, -0.38026128,\n",
       "         0.18599135,  0.75224399,  1.31849663,  1.88474927,  2.4510019 ,\n",
       "         3.01725454]),\n",
       " <BarContainer object of 10 artists>)"
      ]
     },
     "execution_count": 2,
     "metadata": {},
     "output_type": "execute_result"
    },
    {
     "data": {
      "image/png": "[encoded data removed]",
      "text/plain": [
       "<Figure size 432x288 with 1 Axes>"
      ]
     },
     "metadata": {
      "needs_background": "light"
     },
     "output_type": "display_data"
    }
   ],
   "source": [
    "%matplotlib inline\n",
    "import numpy as np\n",
    "import matplotlib.pyplot as plt\n",
    "\n",
    "# Generate 1000 random numbers\n",
    "data = np.random.randn(1000)\n",
    "plt.hist(data)"
   ]
  },
  {
   "cell_type": "markdown",
   "id": "ae610742",
   "metadata": {},
   "source": [
    "The `hist` function has many parameters you can use to customize your plots."
   ]
  },
  {
   "cell_type": "code",
   "execution_count": 3,
   "id": "95061dc7",
   "metadata": {},
   "outputs": [
    {
     "data": {
      "text/plain": [
       "(array([0.02648994, 0.05827787, 0.02119195, 0.07946983, 0.05827787,\n",
       "        0.14834368, 0.18013161, 0.15893966, 0.25960144, 0.29668736,\n",
       "        0.25430345, 0.27019742, 0.34436926, 0.4185411 , 0.33377328,\n",
       "        0.36556121, 0.38675317, 0.38675317, 0.28079339, 0.17483362,\n",
       "        0.1854296 , 0.21191954, 0.11655575, 0.10595977, 0.04238391,\n",
       "        0.03708592, 0.03708592, 0.03708592, 0.01059598, 0.01059598]),\n",
       " array([-2.64527183e+00, -2.45652095e+00, -2.26777007e+00, -2.07901920e+00,\n",
       "        -1.89026832e+00, -1.70151744e+00, -1.51276656e+00, -1.32401568e+00,\n",
       "        -1.13526480e+00, -9.46513920e-01, -7.57763041e-01, -5.69012162e-01,\n",
       "        -3.80261283e-01, -1.91510404e-01, -2.75952464e-03,  1.85991354e-01,\n",
       "         3.74742234e-01,  5.63493113e-01,  7.52243992e-01,  9.40994871e-01,\n",
       "         1.12974575e+00,  1.31849663e+00,  1.50724751e+00,  1.69599839e+00,\n",
       "         1.88474927e+00,  2.07350015e+00,  2.26225102e+00,  2.45100190e+00,\n",
       "         2.63975278e+00,  2.82850366e+00,  3.01725454e+00]),\n",
       " [<matplotlib.patches.Polygon at 0x7f951ac21310>])"
      ]
     },
     "execution_count": 3,
     "metadata": {},
     "output_type": "execute_result"
    },
    {
     "data": {
      "image/png": "[encoded data removed]",
      "text/plain": [
       "<Figure size 432x288 with 1 Axes>"
      ]
     },
     "metadata": {
      "needs_background": "light"
     },
     "output_type": "display_data"
    }
   ],
   "source": [
    "plt.hist(data, bins = 30, density = True, alpha = 0.5,\n",
    "         histtype = 'stepfilled', color = 'steelblue')"
   ]
  },
  {
   "cell_type": "markdown",
   "id": "b85a60c0",
   "metadata": {},
   "source": [
    "Let's go over each and see what they do:\n",
    "\n",
    "  - `bins`: Controls the number of bins\n",
    "  - `density`: Whether we want a frequency or density histogram (look at the y-axis!)\n",
    "  - `alpha`: Controls transparency (just like in ggplot2)\n",
    "  - `histtype`: Type of histogram to draw. Default is `\"bar\"`. Type `\"stepfilled\"` is a lineplot (for the steps) that is filled. Try `\"step\"` to see what's going on.\n",
    "  - `color`: Controls the colour."
   ]
  },
  {
   "cell_type": "markdown",
   "id": "19299c76",
   "metadata": {},
   "source": [
    "### Exercise\n",
    "\n",
    "Repeat the histogram above but using `histtype = \"step\"`, `alpha = 1`, and change the colour."
   ]
  },
  {
   "cell_type": "code",
   "execution_count": 4,
   "id": "1ce97c91",
   "metadata": {},
   "outputs": [
    {
     "data": {
      "text/plain": [
       "(array([ 20.,  54., 113., 155., 207., 215., 121.,  82.,  22.,  11.]),\n",
       " array([-2.64527183, -2.0790192 , -1.51276656, -0.94651392, -0.38026128,\n",
       "         0.18599135,  0.75224399,  1.31849663,  1.88474927,  2.4510019 ,\n",
       "         3.01725454]),\n",
       " [<matplotlib.patches.Polygon at 0x7f951b307d50>])"
      ]
     },
     "execution_count": 4,
     "metadata": {},
     "output_type": "execute_result"
    },
    {
     "data": {
      "image/png": "[encoded data removed]",
      "text/plain": [
       "<Figure size 432x288 with 1 Axes>"
      ]
     },
     "metadata": {
      "needs_background": "light"
     },
     "output_type": "display_data"
    }
   ],
   "source": [
    "# Write your code here.\n",
    "plt.hist(data, histtype = \"step\", alpha = 1, color = \"red\")\n"
   ]
  },
  {
   "cell_type": "markdown",
   "id": "7f3cb308",
   "metadata": {},
   "source": [
    "Now let's try with the `olive` dataset. I saved it as a CSV file."
   ]
  },
  {
   "cell_type": "code",
   "execution_count": 5,
   "id": "f4eb59e8",
   "metadata": {},
   "outputs": [
    {
     "name": "stdout",
     "output_type": "stream",
     "text": [
      "           region          area  palmitic  palmitoleic  stearic  oleic  \\\n",
      "0  Southern Italy  North-Apulia     10.75         0.75     2.26  78.23   \n",
      "1  Southern Italy  North-Apulia     10.88         0.73     2.24  77.09   \n",
      "2  Southern Italy  North-Apulia      9.11         0.54     2.46  81.13   \n",
      "3  Southern Italy  North-Apulia      9.66         0.57     2.40  79.52   \n",
      "4  Southern Italy  North-Apulia     10.51         0.67     2.59  77.71   \n",
      "\n",
      "   linoleic  linolenic  arachidic  eicosenoic  \n",
      "0      6.72       0.36       0.60        0.29  \n",
      "1      7.81       0.31       0.61        0.29  \n",
      "2      5.49       0.31       0.63        0.29  \n",
      "3      6.19       0.50       0.78        0.35  \n",
      "4      6.72       0.50       0.80        0.46  \n"
     ]
    }
   ],
   "source": [
    "import pandas\n",
    "\n",
    "olive = pandas.read_csv(\"olive.csv\")\n",
    "# In R: head(olive)\n",
    "# In Python: olive.head()\n",
    "print(olive.head())"
   ]
  },
  {
   "cell_type": "code",
   "execution_count": 9,
   "id": "fdbac9c3",
   "metadata": {},
   "outputs": [],
   "source": [
    "data_south = olive[olive[\"region\"] == \"Southern Italy\"][\"oleic\"]\n",
    "data_north = olive[olive[\"region\"] == \"Northern Italy\"][\"oleic\"]\n",
    "data_sard = olive[olive[\"region\"] == \"Sardinia\"][\"oleic\"]"
   ]
  },
  {
   "cell_type": "code",
   "execution_count": 10,
   "id": "dbc82947",
   "metadata": {},
   "outputs": [
    {
     "data": {
      "text/plain": [
       "(array([ 1.,  2.,  6., 11.,  8.,  5.,  1., 16., 25., 23.]),\n",
       " array([68.82 , 69.377, 69.934, 70.491, 71.048, 71.605, 72.162, 72.719,\n",
       "        73.276, 73.833, 74.39 ]),\n",
       " <BarContainer object of 10 artists>)"
      ]
     },
     "execution_count": 10,
     "metadata": {},
     "output_type": "execute_result"
    },
    {
     "data": {
      "image/png": "[encoded data removed]",
      "text/plain": [
       "<Figure size 432x288 with 1 Axes>"
      ]
     },
     "metadata": {
      "needs_background": "light"
     },
     "output_type": "display_data"
    }
   ],
   "source": [
    "plt.hist(data_south)\n",
    "plt.hist(data_north)\n",
    "plt.hist(data_sard)"
   ]
  },
  {
   "cell_type": "markdown",
   "id": "14c93ac2",
   "metadata": {},
   "source": [
    "Note: These are **not** stacked histograms! We're printing each histogram on top of the next.\n",
    "\n",
    "Now let's customize this further by adding transparency and a legend."
   ]
  },
  {
   "cell_type": "code",
   "execution_count": 13,
   "id": "228f0498",
   "metadata": {},
   "outputs": [
    {
     "data": {
      "text/plain": [
       "<matplotlib.legend.Legend at 0x7f951c647b90>"
      ]
     },
     "execution_count": 13,
     "metadata": {},
     "output_type": "execute_result"
    },
    {
     "data": {
      "image/png": "[encoded data removed]",
      "text/plain": [
       "<Figure size 432x288 with 1 Axes>"
      ]
     },
     "metadata": {
      "needs_background": "light"
     },
     "output_type": "display_data"
    }
   ],
   "source": [
    "# Add transparency\n",
    "plt.hist(data_south, alpha = 0.5, label = \"Southern Italy\")\n",
    "plt.hist(data_north, alpha = 0.5, label = \"Northern Italy\")\n",
    "plt.hist(data_sard, alpha = 0.5, label = \"Sardinia\")\n",
    "\n",
    "# Add legend\n",
    "# Only labeled parts will be added\n",
    "plt.legend()"
   ]
  },
  {
   "cell_type": "markdown",
   "id": "6a01221c",
   "metadata": {},
   "source": [
    "## Boxplots"
   ]
  },
  {
   "cell_type": "markdown",
   "id": "a99152e0",
   "metadata": {},
   "source": [
    "Next, let's discuss boxplots."
   ]
  },
  {
   "cell_type": "code",
   "execution_count": 14,
   "id": "67dd63ea",
   "metadata": {},
   "outputs": [
    {
     "data": {
      "text/plain": [
       "{'whiskers': [<matplotlib.lines.Line2D at 0x7f951c8153d0>,\n",
       "  <matplotlib.lines.Line2D at 0x7f951c815810>],\n",
       " 'caps': [<matplotlib.lines.Line2D at 0x7f951c815c50>,\n",
       "  <matplotlib.lines.Line2D at 0x7f951c8220d0>],\n",
       " 'boxes': [<matplotlib.lines.Line2D at 0x7f951c80df50>],\n",
       " 'medians': [<matplotlib.lines.Line2D at 0x7f951c822550>],\n",
       " 'fliers': [<matplotlib.lines.Line2D at 0x7f951c822990>],\n",
       " 'means': []}"
      ]
     },
     "execution_count": 14,
     "metadata": {},
     "output_type": "execute_result"
    },
    {
     "data": {
      "image/png": "[encoded data removed]",
      "text/plain": [
       "<Figure size 432x288 with 1 Axes>"
      ]
     },
     "metadata": {
      "needs_background": "light"
     },
     "output_type": "display_data"
    }
   ],
   "source": [
    "# Single boxplot\n",
    "plt.boxplot(data)"
   ]
  },
  {
   "cell_type": "markdown",
   "id": "c87299cb",
   "metadata": {},
   "source": [
    "To create multiple boxplots next to one another, we can pass a list of vectors."
   ]
  },
  {
   "cell_type": "code",
   "execution_count": 15,
   "id": "d32a145a",
   "metadata": {},
   "outputs": [
    {
     "data": {
      "text/plain": [
       "{'whiskers': [<matplotlib.lines.Line2D at 0x7f951c9019d0>,\n",
       "  <matplotlib.lines.Line2D at 0x7f951c901e10>,\n",
       "  <matplotlib.lines.Line2D at 0x7f951c913890>,\n",
       "  <matplotlib.lines.Line2D at 0x7f951c913c90>,\n",
       "  <matplotlib.lines.Line2D at 0x7f951c943690>,\n",
       "  <matplotlib.lines.Line2D at 0x7f951c943b10>],\n",
       " 'caps': [<matplotlib.lines.Line2D at 0x7f951c90a290>,\n",
       "  <matplotlib.lines.Line2D at 0x7f951c90a6d0>,\n",
       "  <matplotlib.lines.Line2D at 0x7f951c939110>,\n",
       "  <matplotlib.lines.Line2D at 0x7f951c939550>,\n",
       "  <matplotlib.lines.Line2D at 0x7f951c943f50>,\n",
       "  <matplotlib.lines.Line2D at 0x7f951c94d410>],\n",
       " 'boxes': [<matplotlib.lines.Line2D at 0x7f951c901550>,\n",
       "  <matplotlib.lines.Line2D at 0x7f951c913450>,\n",
       "  <matplotlib.lines.Line2D at 0x7f951c943250>],\n",
       " 'medians': [<matplotlib.lines.Line2D at 0x7f951c90ab50>,\n",
       "  <matplotlib.lines.Line2D at 0x7f951c939990>,\n",
       "  <matplotlib.lines.Line2D at 0x7f951c94d850>],\n",
       " 'fliers': [<matplotlib.lines.Line2D at 0x7f951c90af90>,\n",
       "  <matplotlib.lines.Line2D at 0x7f951c939dd0>,\n",
       "  <matplotlib.lines.Line2D at 0x7f951c94dc90>],\n",
       " 'means': []}"
      ]
     },
     "execution_count": 15,
     "metadata": {},
     "output_type": "execute_result"
    },
    {
     "data": {
      "image/png": "[encoded data removed]",
      "text/plain": [
       "<Figure size 432x288 with 1 Axes>"
      ]
     },
     "metadata": {
      "needs_background": "light"
     },
     "output_type": "display_data"
    }
   ],
   "source": [
    "# List with three elements, each a vector of data\n",
    "olive_box = [data_south, data_north, data_sard]\n",
    "plt.boxplot(olive_box)"
   ]
  },
  {
   "cell_type": "markdown",
   "id": "5e08cfcd",
   "metadata": {},
   "source": [
    "By default, the labels on the x-axis are simply numbers. We can change that using the `labels` argument."
   ]
  },
  {
   "cell_type": "code",
   "execution_count": 20,
   "id": "a6d4ade3",
   "metadata": {},
   "outputs": [
    {
     "data": {
      "text/plain": [
       "{'whiskers': [<matplotlib.lines.Line2D at 0x7f951ee28a10>,\n",
       "  <matplotlib.lines.Line2D at 0x7f951ee28d10>,\n",
       "  <matplotlib.lines.Line2D at 0x7f951ee93690>,\n",
       "  <matplotlib.lines.Line2D at 0x7f951ee93a90>,\n",
       "  <matplotlib.lines.Line2D at 0x7f951eeb7490>,\n",
       "  <matplotlib.lines.Line2D at 0x7f951eeb7910>],\n",
       " 'caps': [<matplotlib.lines.Line2D at 0x7f951ee36190>,\n",
       "  <matplotlib.lines.Line2D at 0x7f951ee365d0>,\n",
       "  <matplotlib.lines.Line2D at 0x7f951ee93ed0>,\n",
       "  <matplotlib.lines.Line2D at 0x7f951eea4350>,\n",
       "  <matplotlib.lines.Line2D at 0x7f951eeb7d50>,\n",
       "  <matplotlib.lines.Line2D at 0x7f951ef0f210>],\n",
       " 'boxes': [<matplotlib.lines.Line2D at 0x7f951ee28590>,\n",
       "  <matplotlib.lines.Line2D at 0x7f951ee93250>,\n",
       "  <matplotlib.lines.Line2D at 0x7f951eeb7050>],\n",
       " 'medians': [<matplotlib.lines.Line2D at 0x7f951ee36a50>,\n",
       "  <matplotlib.lines.Line2D at 0x7f951eea4790>,\n",
       "  <matplotlib.lines.Line2D at 0x7f951ef0f650>],\n",
       " 'fliers': [<matplotlib.lines.Line2D at 0x7f951ee36e90>,\n",
       "  <matplotlib.lines.Line2D at 0x7f951eea4bd0>,\n",
       "  <matplotlib.lines.Line2D at 0x7f951ef0fa90>],\n",
       " 'means': []}"
      ]
     },
     "execution_count": 20,
     "metadata": {},
     "output_type": "execute_result"
    },
    {
     "data": {
      "image/png": "[encoded data removed]",
      "text/plain": [
       "<Figure size 432x288 with 1 Axes>"
      ]
     },
     "metadata": {
      "needs_background": "light"
     },
     "output_type": "display_data"
    }
   ],
   "source": [
    "plt.boxplot(olive_box, notch = True,\n",
    "            labels = [\"North. Italy\", \"South. Italy\", \"Sardinia\"])"
   ]
  },
  {
   "cell_type": "markdown",
   "id": "f2663325",
   "metadata": {},
   "source": [
    "### Exercise\n",
    "\n",
    "One of the parameters to `boxplot` is `notch`. What does it do?"
   ]
  },
  {
   "cell_type": "markdown",
   "id": "af59a56c",
   "metadata": {},
   "source": [
    "## Barplot"
   ]
  },
  {
   "cell_type": "markdown",
   "id": "03fff107",
   "metadata": {},
   "source": [
    "For bar plots, you need to specify two lists:\n",
    "  - The levels of the categorical variable\n",
    "  - The counts in each group (or the value we want to display)\n",
    "  \n",
    "Recall that in `R` the counts were computed by ggplot; here we have to pass the counts explicitly."
   ]
  },
  {
   "cell_type": "code",
   "execution_count": 21,
   "id": "d40aa484",
   "metadata": {},
   "outputs": [
    {
     "data": {
      "text/plain": [
       "<BarContainer object of 5 artists>"
      ]
     },
     "execution_count": 21,
     "metadata": {},
     "output_type": "execute_result"
    },
    {
     "data": {
      "image/png": "[encoded data removed]",
      "text/plain": [
       "<Figure size 432x288 with 1 Axes>"
      ]
     },
     "metadata": {
      "needs_background": "light"
     },
     "output_type": "display_data"
    }
   ],
   "source": [
    "# data: Counts\n",
    "data = [23, 45, 56, 78, 213]\n",
    "levels = [1,2,3,4,5]\n",
    "plt.bar(levels, data)"
   ]
  },
  {
   "cell_type": "code",
   "execution_count": 22,
   "id": "46cec65a",
   "metadata": {},
   "outputs": [
    {
     "data": {
      "text/plain": [
       "<BarContainer object of 5 artists>"
      ]
     },
     "execution_count": 22,
     "metadata": {},
     "output_type": "execute_result"
    },
    {
     "data": {
      "image/png": "[encoded data removed]",
      "text/plain": [
       "<Figure size 432x288 with 1 Axes>"
      ]
     },
     "metadata": {
      "needs_background": "light"
     },
     "output_type": "display_data"
    }
   ],
   "source": [
    "# Levels can also be strings\n",
    "plt.bar([\"Apple\",\"Pear\",\"Banana\",\"Pineapple\",\"Orange\"], \n",
    "        data)"
   ]
  },
  {
   "cell_type": "markdown",
   "id": "1fc28f15",
   "metadata": {},
   "source": [
    "For more control, we can also create each bar separately (like we did for histograms)."
   ]
  },
  {
   "cell_type": "code",
   "execution_count": 23,
   "id": "4a51baea",
   "metadata": {},
   "outputs": [
    {
     "data": {
      "text/plain": [
       "<BarContainer object of 1 artists>"
      ]
     },
     "execution_count": 23,
     "metadata": {},
     "output_type": "execute_result"
    },
    {
     "data": {
      "image/png": "[encoded data removed]",
      "text/plain": [
       "<Figure size 432x288 with 1 Axes>"
      ]
     },
     "metadata": {
      "needs_background": "light"
     },
     "output_type": "display_data"
    }
   ],
   "source": [
    "# Beware: the function is len() in Python\n",
    "#         but length() in R!\n",
    "\n",
    "plt.bar(\"North. Italy\", len(data_north))\n",
    "plt.bar(\"South. Italy\", len(data_south))\n",
    "plt.bar(\"Sardinia\", len(data_sard))"
   ]
  },
  {
   "cell_type": "markdown",
   "id": "7989b068",
   "metadata": {},
   "source": [
    "You can also change the colours using one of the built in palettes (for more info: https://matplotlib.org/stable/tutorials/colors/colormaps.html)."
   ]
  },
  {
   "cell_type": "code",
   "execution_count": 24,
   "id": "b5a2c283",
   "metadata": {},
   "outputs": [
    {
     "name": "stdout",
     "output_type": "stream",
     "text": [
      "[[0.267004 0.004874 0.329415 1.      ]\n",
      " [0.127568 0.566949 0.550556 1.      ]\n",
      " [0.993248 0.906157 0.143936 1.      ]]\n"
     ]
    }
   ],
   "source": [
    "# np.linspace is the equivalent of seq in R\n",
    "# It outputs equidistant values between min=0 and max=1\n",
    "colours = plt.cm.viridis(np.linspace(0, 1, 3))\n",
    "\n",
    "# The output is a list of RGBA values\n",
    "print(colours)"
   ]
  },
  {
   "cell_type": "code",
   "execution_count": 25,
   "id": "3450b205",
   "metadata": {},
   "outputs": [
    {
     "data": {
      "text/plain": [
       "<BarContainer object of 1 artists>"
      ]
     },
     "execution_count": 25,
     "metadata": {},
     "output_type": "execute_result"
    },
    {
     "data": {
      "image/png": "[encoded data removed]",
      "text/plain": [
       "<Figure size 432x288 with 1 Axes>"
      ]
     },
     "metadata": {
      "needs_background": "light"
     },
     "output_type": "display_data"
    }
   ],
   "source": [
    "plt.bar(\"North. Italy\", len(data_north), color = colours[0])\n",
    "plt.bar(\"South. Italy\", len(data_south), color = colours[1])\n",
    "plt.bar(\"Sardinia\", len(data_sard), color = colours[2])"
   ]
  },
  {
   "cell_type": "markdown",
   "id": "14bbe65b",
   "metadata": {},
   "source": [
    "### Exercise\n",
    "\n",
    "Create a bar plot with percentages on the y-axis?"
   ]
  },
  {
   "cell_type": "code",
   "execution_count": 26,
   "id": "d49b8f34",
   "metadata": {},
   "outputs": [
    {
     "data": {
      "text/plain": [
       "<BarContainer object of 1 artists>"
      ]
     },
     "execution_count": 26,
     "metadata": {},
     "output_type": "execute_result"
    },
    {
     "data": {
      "image/png": "[encoded data removed]",
      "text/plain": [
       "<Figure size 432x288 with 1 Axes>"
      ]
     },
     "metadata": {
      "needs_background": "light"
     },
     "output_type": "display_data"
    }
   ],
   "source": [
    "# Write your code here\n",
    "nrows = olive.shape[0]\n",
    "\n",
    "plt.bar(\"North. Italy\", len(data_north)/nrows)\n",
    "plt.bar(\"South. Italy\", len(data_south)/nrows)\n",
    "plt.bar(\"Sardinia\", len(data_sard)/nrows)"
   ]
  },
  {
   "cell_type": "markdown",
   "id": "ffe5b939",
   "metadata": {},
   "source": [
    "## Scatter plots and line plots"
   ]
  },
  {
   "cell_type": "markdown",
   "id": "e8e60889",
   "metadata": {},
   "source": [
    "Scatter plots and line plots are actually created using the same function, like in base R. First, we will look at scatter plots."
   ]
  },
  {
   "cell_type": "code",
   "execution_count": null,
   "id": "5a50f458",
   "metadata": {},
   "outputs": [],
   "source": [
    "x = np.linspace(0, 10, 30)\n",
    "y = np.sin(x)\n",
    "\n",
    "plt.plot(x, y, 'o', color='black')"
   ]
  },
  {
   "cell_type": "markdown",
   "id": "f8e36953",
   "metadata": {},
   "source": [
    "The third argument `\"o\"` controls how the points look."
   ]
  },
  {
   "cell_type": "code",
   "execution_count": null,
   "id": "43738ee4",
   "metadata": {},
   "outputs": [],
   "source": [
    "plt.plot(x, y, 'x', color = 'black')"
   ]
  },
  {
   "cell_type": "markdown",
   "id": "ab0a641f",
   "metadata": {},
   "source": [
    "If you prefer a line plot, you can simply omit the third argument altogether."
   ]
  },
  {
   "cell_type": "code",
   "execution_count": null,
   "id": "bde72d23",
   "metadata": {},
   "outputs": [],
   "source": [
    "plt.plot(x, y, color = 'black')"
   ]
  },
  {
   "cell_type": "markdown",
   "id": "a5dc73a2",
   "metadata": {},
   "source": [
    "You can add as many lines as you like. Here is a sample of different ways of specifying the colour."
   ]
  },
  {
   "cell_type": "code",
   "execution_count": null,
   "id": "7553cddd",
   "metadata": {},
   "outputs": [],
   "source": [
    "plt.plot(x, np.sin(x - 0), color='blue')        # specify color by name\n",
    "plt.plot(x, np.sin(x - 1), color='g')           # short color code (rgbcmyk)\n",
    "plt.plot(x, np.sin(x - 2), color='0.75')        # Grayscale between 0 and 1\n",
    "plt.plot(x, np.sin(x - 3), color='#FFDD44')     # Hex code (RRGGBB from 00 to FF)\n",
    "plt.plot(x, np.sin(x - 4), color=(1.0,0.2,0.3)) # RGB tuple, values 0 to 1\n",
    "plt.plot(x, np.sin(x - 5), color='chartreuse')  # all HTML color names supported"
   ]
  },
  {
   "cell_type": "markdown",
   "id": "8e51b99b",
   "metadata": {},
   "source": [
    "Finally, we can use the scatter plot on the olive dataset."
   ]
  },
  {
   "cell_type": "code",
   "execution_count": null,
   "id": "9baeffae",
   "metadata": {},
   "outputs": [],
   "source": [
    "plt.plot(olive[\"arachidic\"],\n",
    "         olive[\"linolenic\"], \"o\")\n",
    "\n",
    "# Add axis labels\n",
    "plt.xlabel(\"Arachidic\")\n",
    "plt.ylabel(\"Linolenic\")"
   ]
  }
 ],
 "metadata": {
  "kernelspec": {
   "display_name": "Python 3",
   "language": "python",
   "name": "python3"
  },
  "language_info": {
   "codemirror_mode": {
    "name": "ipython",
    "version": 3
   },
   "file_extension": ".py",
   "mimetype": "text/x-python",
   "name": "python",
   "nbconvert_exporter": "python",
   "pygments_lexer": "ipython3",
   "version": "3.7.6"
  }
 },
 "nbformat": 4,
 "nbformat_minor": 5
}
