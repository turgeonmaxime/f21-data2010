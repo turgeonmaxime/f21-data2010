{
 "cells": [
  {
   "cell_type": "markdown",
   "id": "34e09352",
   "metadata": {},
   "source": [
    "# Random Forest Classification\n",
    "\n",
    "In this notebook, we discuss how to fit and evaluate a random forest classification model in Python.\n",
    "\n",
    "We will continue using the Breast Cancer Wisconsin Diagnostic dataset, which was downloaded from the UCI Machine Learning repository."
   ]
  },
  {
   "cell_type": "code",
   "execution_count": 1,
   "id": "5e0c98ea",
   "metadata": {},
   "outputs": [],
   "source": [
    "# Import data\n",
    "import pandas as pd\n",
    "\n",
    "df = pd.read_csv('wdbc.csv')"
   ]
  },
  {
   "cell_type": "markdown",
   "id": "29a4e0f8",
   "metadata": {},
   "source": [
    "The target variable is called `target`, and we want to use all remaining variables to try to predict it."
   ]
  },
  {
   "cell_type": "code",
   "execution_count": 2,
   "id": "04d62e4f",
   "metadata": {},
   "outputs": [
    {
     "data": {
      "text/plain": [
       "((512, 30), (57, 30))"
      ]
     },
     "execution_count": 2,
     "metadata": {},
     "output_type": "execute_result"
    }
   ],
   "source": [
    "# Split data into train and test sets\n",
    "from sklearn.model_selection import train_test_split\n",
    "\n",
    "X = df.drop('target', axis = 1)\n",
    "y = df.target\n",
    "\n",
    "# We specify the random state for reproducibility\n",
    "X_train, X_test, y_train, y_test = train_test_split(X, y, test_size = 0.1,\n",
    "                                                    random_state = 1234)\n",
    "(X_train.shape, X_test.shape)"
   ]
  },
  {
   "cell_type": "markdown",
   "id": "80ad39f3",
   "metadata": {},
   "source": [
    "Recall the decision tree classification model we fitted in the previous notebook."
   ]
  },
  {
   "cell_type": "code",
   "execution_count": 3,
   "id": "e1caac67",
   "metadata": {},
   "outputs": [
    {
     "data": {
      "text/plain": [
       "0.8936170212765957"
      ]
     },
     "execution_count": 3,
     "metadata": {},
     "output_type": "execute_result"
    }
   ],
   "source": [
    "# Fit Decision Tree\n",
    "from sklearn.tree import DecisionTreeClassifier\n",
    "\n",
    "model = DecisionTreeClassifier()\n",
    "model.fit(X_train, y_train)\n",
    "\n",
    "# Get predicted values\n",
    "y_pred = model.predict(X_test)\n",
    "\n",
    "# Compute F-score\n",
    "import sklearn.metrics\n",
    "\n",
    "sklearn.metrics.f1_score(y_test, y_pred, pos_label = 'M')"
   ]
  },
  {
   "cell_type": "markdown",
   "id": "2e4b6160",
   "metadata": {},
   "source": [
    "## Ensemble Learning\n",
    "\n",
    "Growing a tree is (almost) deterministic: we look for the best split at every node. To add some randomness (and increase the number of potential trees), we can randomly select a feature at each node to construct our predicate. This can be achieved by setting `splitter = 'random'` in the constructor function."
   ]
  },
  {
   "cell_type": "code",
   "execution_count": 4,
   "id": "4e928ed5",
   "metadata": {},
   "outputs": [
    {
     "data": {
      "text/plain": [
       "0.8800000000000001"
      ]
     },
     "execution_count": 4,
     "metadata": {},
     "output_type": "execute_result"
    }
   ],
   "source": [
    "model_ens = DecisionTreeClassifier(splitter = 'random')\n",
    "model_ens.fit(X_train, y_train)\n",
    "\n",
    "# Get predicted values\n",
    "y_pred_ens = model_ens.predict(X_test)\n",
    "\n",
    "# Compute F-score\n",
    "sklearn.metrics.f1_score(y_test, y_pred_ens, pos_label = 'M')"
   ]
  },
  {
   "cell_type": "markdown",
   "id": "ca78aa2c",
   "metadata": {},
   "source": [
    "By repeating this procedure multiple times, we get different trees. Some have better performance, some have worse performance."
   ]
  },
  {
   "cell_type": "markdown",
   "id": "0727321e",
   "metadata": {},
   "source": [
    "### Exercise\n",
    "\n",
    "Fit the model 5 times. Store the predictions in the array below. How much overlap is there between the predictions?"
   ]
  },
  {
   "cell_type": "code",
   "execution_count": 5,
   "id": "511e00a0",
   "metadata": {},
   "outputs": [
    {
     "data": {
      "text/plain": [
       "array([['M', 'B', 'B', 'B', 'B', 'B', 'M', 'M', 'B', 'B', 'B', 'M', 'B',\n",
       "        'B', 'B', 'B', 'B', 'M', 'B', 'B', 'B', 'B', 'B', 'M', 'M', 'M',\n",
       "        'B', 'B', 'B', 'M', 'M', 'B', 'M', 'M', 'B', 'B', 'B', 'B', 'B',\n",
       "        'B', 'M', 'M', 'B', 'B', 'B', 'M', 'M', 'M', 'B', 'M', 'B', 'M',\n",
       "        'M', 'M', 'M', 'B', 'M'],\n",
       "       ['M', 'B', 'M', 'B', 'B', 'B', 'M', 'M', 'B', 'B', 'B', 'M', 'B',\n",
       "        'B', 'B', 'B', 'B', 'M', 'B', 'B', 'B', 'B', 'B', 'M', 'M', 'M',\n",
       "        'M', 'B', 'B', 'M', 'M', 'M', 'M', 'M', 'B', 'B', 'B', 'M', 'B',\n",
       "        'B', 'M', 'M', 'B', 'B', 'B', 'M', 'M', 'M', 'B', 'M', 'B', 'B',\n",
       "        'M', 'M', 'M', 'B', 'M'],\n",
       "       ['M', 'B', 'B', 'B', 'B', 'B', 'M', 'B', 'B', 'B', 'B', 'M', 'B',\n",
       "        'B', 'B', 'B', 'B', 'M', 'B', 'B', 'B', 'B', 'B', 'M', 'M', 'M',\n",
       "        'B', 'B', 'B', 'B', 'M', 'B', 'M', 'M', 'B', 'B', 'B', 'B', 'B',\n",
       "        'B', 'M', 'M', 'B', 'B', 'B', 'M', 'M', 'B', 'B', 'M', 'B', 'B',\n",
       "        'M', 'M', 'M', 'B', 'M'],\n",
       "       ['M', 'B', 'B', 'B', 'B', 'B', 'M', 'B', 'B', 'B', 'B', 'M', 'B',\n",
       "        'B', 'B', 'B', 'B', 'M', 'B', 'B', 'B', 'B', 'B', 'M', 'M', 'M',\n",
       "        'B', 'B', 'B', 'B', 'M', 'B', 'M', 'M', 'B', 'B', 'B', 'M', 'B',\n",
       "        'B', 'M', 'M', 'B', 'B', 'B', 'M', 'M', 'B', 'M', 'M', 'B', 'M',\n",
       "        'M', 'M', 'M', 'M', 'M'],\n",
       "       ['M', 'B', 'B', 'B', 'B', 'B', 'M', 'B', 'B', 'B', 'B', 'M', 'B',\n",
       "        'B', 'B', 'B', 'B', 'M', 'B', 'B', 'B', 'B', 'B', 'M', 'M', 'M',\n",
       "        'B', 'B', 'B', 'M', 'M', 'M', 'M', 'M', 'B', 'B', 'B', 'B', 'B',\n",
       "        'B', 'M', 'M', 'B', 'B', 'B', 'M', 'M', 'M', 'B', 'M', 'B', 'B',\n",
       "        'M', 'M', 'M', 'B', 'M']], dtype=object)"
      ]
     },
     "execution_count": 5,
     "metadata": {},
     "output_type": "execute_result"
    }
   ],
   "source": [
    "import numpy as np\n",
    "\n",
    "y_pred_array = np.empty((5, len(y_test)), dtype = object)\n",
    "\n",
    "# Write your code below\n",
    "for i in range(5):\n",
    "    model_ens.fit(X_train, y_train)\n",
    "    y_pred_array[i,] = model_ens.predict(X_test)\n",
    "\n",
    "\n",
    "# Print results\n",
    "y_pred_array"
   ]
  },
  {
   "cell_type": "markdown",
   "id": "42ab2ad5",
   "metadata": {},
   "source": [
    "## Random Forests\n",
    "\n",
    "We can fit random forest models using `scikit-learn`, as follows:"
   ]
  },
  {
   "cell_type": "code",
   "execution_count": 7,
   "id": "4cd2ceb2",
   "metadata": {},
   "outputs": [
    {
     "data": {
      "text/plain": [
       "0.9333333333333332"
      ]
     },
     "execution_count": 7,
     "metadata": {},
     "output_type": "execute_result"
    }
   ],
   "source": [
    "# Fit Random Forest\n",
    "from sklearn.ensemble import RandomForestClassifier\n",
    "\n",
    "model_rf = RandomForestClassifier()\n",
    "model_rf.fit(X_train, y_train)\n",
    "\n",
    "# Get predicted values\n",
    "y_pred_rf = model_rf.predict(X_test)\n",
    "\n",
    "# Compute F-score\n",
    "sklearn.metrics.f1_score(y_test, y_pred_rf, pos_label = 'M')"
   ]
  },
  {
   "cell_type": "markdown",
   "id": "1e3f4e7c",
   "metadata": {},
   "source": [
    "### Exercise\n",
    "\n",
    "By default, the number of trees in the forest is set at 100. Increase it to 500.\n",
    "\n",
    "Moreover, change `max_features` to `'log2'` (and look at the documentation to understand what this does!). Compute the F-score, and compare to the model above. Which model performs best?"
   ]
  },
  {
   "cell_type": "code",
   "execution_count": 14,
   "id": "06223cbd",
   "metadata": {},
   "outputs": [
    {
     "data": {
      "text/plain": [
       "0.9333333333333332"
      ]
     },
     "execution_count": 14,
     "metadata": {},
     "output_type": "execute_result"
    }
   ],
   "source": [
    "# Write your code below\n",
    "model_rf2 = RandomForestClassifier(n_estimators = 500,\n",
    "                                   max_features = 'log2')\n",
    "model_rf2.fit(X_train, y_train)\n",
    "\n",
    "y_pred_rf2 = model_rf2.predict(X_test)\n",
    "\n",
    "sklearn.metrics.f1_score(y_test, y_pred_rf2, pos_label = 'M')"
   ]
  }
 ],
 "metadata": {
  "kernelspec": {
   "display_name": "Python 3",
   "language": "python",
   "name": "python3"
  },
  "language_info": {
   "codemirror_mode": {
    "name": "ipython",
    "version": 3
   },
   "file_extension": ".py",
   "mimetype": "text/x-python",
   "name": "python",
   "nbconvert_exporter": "python",
   "pygments_lexer": "ipython3",
   "version": "3.7.6"
  }
 },
 "nbformat": 4,
 "nbformat_minor": 5
}
